{
 "cells": [
  {
   "cell_type": "code",
   "execution_count": 1,
   "metadata": {},
   "outputs": [],
   "source": [
    "import numpy as np\n",
    "import pandas as pd\n",
    "import random\n",
    "from sklearn.model_selection import train_test_split\n",
    "import matplotlib.pyplot as plt"
   ]
  },
  {
   "cell_type": "code",
   "execution_count": 2,
   "metadata": {},
   "outputs": [],
   "source": [
    "random.seed(1852026)"
   ]
  },
  {
   "cell_type": "code",
   "execution_count": 3,
   "metadata": {},
   "outputs": [],
   "source": [
    "df = pd.read_excel(\"dataPoints.xlsx\")"
   ]
  },
  {
   "cell_type": "code",
   "execution_count": 4,
   "metadata": {},
   "outputs": [],
   "source": [
    "data = df.to_numpy()\n",
    "data_train, data_rest = train_test_split(data, test_size=0.30)\n",
    "data_test, data_val = train_test_split(data_rest, test_size=0.50)\n",
    "data_train, data_validate, data_test = np.split(df.sample(frac=1), [int(.7*len(df)), int(.85*len(df))])\n",
    "data_train = data_train.to_numpy()\n",
    "data_validate = data_validate.to_numpy()\n",
    "data_test = data_test.to_numpy()\n",
    "\n",
    "X_train = np.transpose(data_train[:,0:2])\n",
    "Y_train = np.transpose(data_train[:,2:])\n",
    "X_validate = np.transpose(data_validate[:,0:2])\n",
    "Y_validate = np.transpose(data_validate[:,2:])\n",
    "X_test = np.transpose(data_test[:,0:2])\n",
    "Y_test = np.transpose(data_test[:,2:])"
   ]
  },
  {
   "cell_type": "code",
   "execution_count": 5,
   "metadata": {},
   "outputs": [
    {
     "data": {
      "text/plain": [
       "(2, 210)"
      ]
     },
     "execution_count": 5,
     "metadata": {},
     "output_type": "execute_result"
    }
   ],
   "source": [
    "X_train.shape"
   ]
  },
  {
   "cell_type": "code",
   "execution_count": 6,
   "metadata": {},
   "outputs": [
    {
     "data": {
      "text/plain": [
       "(1, 210)"
      ]
     },
     "execution_count": 6,
     "metadata": {},
     "output_type": "execute_result"
    }
   ],
   "source": [
    "Y_train.shape"
   ]
  },
  {
   "cell_type": "code",
   "execution_count": 5,
   "metadata": {},
   "outputs": [],
   "source": [
    "n = X_train.shape[0] # Size of the input vector X\n",
    "n_y = Y_train.shape[0] # Size of the input vector Y\n",
    "p = X_train.shape[1] # Size of the sample\n",
    "N = 5 # size of the hidden layer, # neurons, this is just for the moment to have some example"
   ]
  },
  {
   "cell_type": "code",
   "execution_count": 8,
   "metadata": {},
   "outputs": [],
   "source": [
    "def initialize_parameters(n, N, n_y):\n",
    "    \"\"\"\n",
    "    Argument:\n",
    "    n -- size of the input layer\n",
    "    N -- size of the hidden layer\n",
    "    p -- size of the sample\n",
    "    n_y -- size of the output layer\n",
    "    \n",
    "    Returns:\n",
    "    params -- python dictionary containing your parameters:\n",
    "                    W1 -- weight matrix of shape (N, n)\n",
    "                    b1 -- bias vector of shape (N, 1)\n",
    "                    V -- weight matrix of shape (n_y, N)\n",
    "    \"\"\"\n",
    "        \n",
    "    W1 = np.random.randn(N,n) * 0.01\n",
    "    b1 = np.zeros(shape=(n, 1))\n",
    "    V = np.random.randn(n_y,N) * 0.01\n",
    "    \n",
    "    \n",
    "    parameters = {\"W1\": W1,\n",
    "                  \"b1\": b1,\n",
    "                  \"V\": V}\n",
    "    \n",
    "    return parameters"
   ]
  },
  {
   "cell_type": "code",
   "execution_count": 16,
   "metadata": {},
   "outputs": [],
   "source": [
    "rr=initialize_parameters(n, N, n_y)"
   ]
  },
  {
   "cell_type": "code",
   "execution_count": 17,
   "metadata": {},
   "outputs": [
    {
     "data": {
      "text/plain": [
       "{'W1': array([[ 0.01556526, -0.01158364],\n",
       "        [-0.02327415, -0.00112092],\n",
       "        [ 0.00038901, -0.0068777 ],\n",
       "        [-0.01340754,  0.00502958],\n",
       "        [ 0.00088805, -0.01814066]]), 'b1': array([[0.],\n",
       "        [0.]]), 'V': array([[ 0.01203228, -0.01256006, -0.00520418,  0.00056666,  0.01843201]])}"
      ]
     },
     "execution_count": 17,
     "metadata": {},
     "output_type": "execute_result"
    }
   ],
   "source": [
    "rr"
   ]
  },
  {
   "cell_type": "code",
   "execution_count": 23,
   "metadata": {},
   "outputs": [],
   "source": [
    "YY = np.array([0.2,0.3,0.5,0.6])\n",
    "YYY=np.array([0.3,0.1,0.5,0.6])"
   ]
  },
  {
   "cell_type": "code",
   "execution_count": 26,
   "metadata": {},
   "outputs": [
    {
     "data": {
      "text/plain": [
       "0.04999999999999999"
      ]
     },
     "execution_count": 26,
     "metadata": {},
     "output_type": "execute_result"
    }
   ],
   "source": [
    "np.sum((YY-YYY)**2)"
   ]
  },
  {
   "cell_type": "code",
   "execution_count": 27,
   "metadata": {},
   "outputs": [
    {
     "data": {
      "text/plain": [
       "7.3484692283495345"
      ]
     },
     "execution_count": 27,
     "metadata": {},
     "output_type": "execute_result"
    }
   ],
   "source": [
    "np.linalg.norm(np.array([[-4, -3, -2], [-1, 0, 1], [ 2, 3, 4]]),2)"
   ]
  },
  {
   "cell_type": "code",
   "execution_count": 9,
   "metadata": {},
   "outputs": [
    {
     "data": {
      "text/plain": [
       "6.928203230275509"
      ]
     },
     "execution_count": 9,
     "metadata": {},
     "output_type": "execute_result"
    }
   ],
   "source": [
    "np.linalg.norm(np.array([[2, 2, 2], [2, 2, 2], [ 2,2, 2],[2,2,2]]),2)"
   ]
  },
  {
   "cell_type": "code",
   "execution_count": 11,
   "metadata": {},
   "outputs": [
    {
     "data": {
      "text/plain": [
       "6.928203230275509"
      ]
     },
     "execution_count": 11,
     "metadata": {},
     "output_type": "execute_result"
    }
   ],
   "source": [
    "(2**2 * 12)**0.5"
   ]
  },
  {
   "cell_type": "code",
   "execution_count": 12,
   "metadata": {},
   "outputs": [],
   "source": [
    "def second_norm(omega):\n",
    "    return np.linalg.norm(omega,2)**2"
   ]
  },
  {
   "cell_type": "code",
   "execution_count": 118,
   "metadata": {},
   "outputs": [],
   "source": [
    "def reg_training_error(y_pred,y_true,number_of_samples, omega, rho):\n",
    "    E = ((np.sum((y_pred-y_true)**2)/(2*number_of_samples)) + rho*(second_norm(omega)))\n",
    "    return E"
   ]
  },
  {
   "cell_type": "code",
   "execution_count": 46,
   "metadata": {},
   "outputs": [],
   "source": [
    "def hyp_tan(t,sigma):\n",
    "    return (2*np.exp(2*sigma*t)-1)/(2*np.exp(2*sigma*t)+1)"
   ]
  },
  {
   "cell_type": "code",
   "execution_count": 47,
   "metadata": {},
   "outputs": [],
   "source": [
    "def predicting(z0,b,w,v,sigma):\n",
    "    z1= np.dot(w,z0)-b\n",
    "    return np.sum(v*hyp_tan(z1,sigma))"
   ]
  },
  {
   "cell_type": "code",
   "execution_count": null,
   "metadata": {},
   "outputs": [],
   "source": []
  },
  {
   "cell_type": "code",
   "execution_count": 6,
   "metadata": {},
   "outputs": [],
   "source": [
    "W1 = np.random.randn(N,n)*0.3\n",
    "b1 = np.ones(shape=(N, 1))\n",
    "V = np.random.randn(n_y,N)*0.3"
   ]
  },
  {
   "cell_type": "code",
   "execution_count": 120,
   "metadata": {},
   "outputs": [
    {
     "data": {
      "text/plain": [
       "1.9248944680090099"
      ]
     },
     "execution_count": 120,
     "metadata": {},
     "output_type": "execute_result"
    }
   ],
   "source": [
    "predicting(X_train.T[10],b1,W1,V,1)"
   ]
  },
  {
   "cell_type": "code",
   "execution_count": 121,
   "metadata": {},
   "outputs": [
    {
     "data": {
      "text/plain": [
       "array([[-0.49700446, -0.00730414],\n",
       "       [ 0.49321305,  0.14228574],\n",
       "       [ 0.08857209,  0.01549494],\n",
       "       [-0.20201534,  0.02838033],\n",
       "       [-0.23897971,  0.35168052]])"
      ]
     },
     "execution_count": 121,
     "metadata": {},
     "output_type": "execute_result"
    }
   ],
   "source": [
    "W1"
   ]
  },
  {
   "cell_type": "code",
   "execution_count": 262,
   "metadata": {},
   "outputs": [
    {
     "data": {
      "text/plain": [
       "array([[1.],\n",
       "       [1.],\n",
       "       [1.],\n",
       "       [1.],\n",
       "       [1.]])"
      ]
     },
     "execution_count": 262,
     "metadata": {},
     "output_type": "execute_result"
    }
   ],
   "source": [
    "b1"
   ]
  },
  {
   "cell_type": "code",
   "execution_count": 264,
   "metadata": {},
   "outputs": [
    {
     "data": {
      "text/plain": [
       "array([[-0.03448435],\n",
       "       [-0.02678508],\n",
       "       [ 0.05422537],\n",
       "       [ 0.06374755],\n",
       "       [-0.02806628]])"
      ]
     },
     "execution_count": 264,
     "metadata": {},
     "output_type": "execute_result"
    }
   ],
   "source": [
    "V.T"
   ]
  },
  {
   "cell_type": "code",
   "execution_count": 117,
   "metadata": {},
   "outputs": [
    {
     "data": {
      "text/plain": [
       "array([[-0.26415911,  0.13266138, -0.26415911],\n",
       "       [-0.19719182,  0.28584915, -0.19719182],\n",
       "       [-0.23540867,  0.25615556, -0.23540867],\n",
       "       [ 0.14374696,  0.650911  ,  0.14374696],\n",
       "       [ 0.32618034, -0.31527202,  0.32618034]])"
      ]
     },
     "execution_count": 117,
     "metadata": {},
     "output_type": "execute_result"
    }
   ],
   "source": []
  },
  {
   "cell_type": "code",
   "execution_count": 116,
   "metadata": {},
   "outputs": [
    {
     "data": {
      "text/plain": [
       "array([[-0.26415911,  0.13266138],\n",
       "       [-0.19719182,  0.28584915],\n",
       "       [-0.23540867,  0.25615556],\n",
       "       [ 0.14374696,  0.650911  ],\n",
       "       [ 0.32618034, -0.31527202]])"
      ]
     },
     "execution_count": 116,
     "metadata": {},
     "output_type": "execute_result"
    }
   ],
   "source": [
    "W1"
   ]
  },
  {
   "cell_type": "code",
   "execution_count": 57,
   "metadata": {},
   "outputs": [
    {
     "data": {
      "text/plain": [
       "array([2.25412485])"
      ]
     },
     "execution_count": 57,
     "metadata": {},
     "output_type": "execute_result"
    }
   ],
   "source": [
    "Y_train.T[10]"
   ]
  },
  {
   "cell_type": "code",
   "execution_count": 80,
   "metadata": {},
   "outputs": [
    {
     "data": {
      "text/plain": [
       "(5, 2)"
      ]
     },
     "execution_count": 80,
     "metadata": {},
     "output_type": "execute_result"
    }
   ],
   "source": [
    "W1.shape"
   ]
  },
  {
   "cell_type": "code",
   "execution_count": 81,
   "metadata": {},
   "outputs": [
    {
     "data": {
      "text/plain": [
       "(1, 5)"
      ]
     },
     "execution_count": 81,
     "metadata": {},
     "output_type": "execute_result"
    }
   ],
   "source": [
    "V.shape"
   ]
  },
  {
   "cell_type": "code",
   "execution_count": 82,
   "metadata": {},
   "outputs": [
    {
     "data": {
      "text/plain": [
       "(5, 1)"
      ]
     },
     "execution_count": 82,
     "metadata": {},
     "output_type": "execute_result"
    }
   ],
   "source": [
    "b1.shape"
   ]
  },
  {
   "cell_type": "code",
   "execution_count": 83,
   "metadata": {},
   "outputs": [
    {
     "data": {
      "text/plain": [
       "(1, 210)"
      ]
     },
     "execution_count": 83,
     "metadata": {},
     "output_type": "execute_result"
    }
   ],
   "source": [
    "Y_train.shape"
   ]
  },
  {
   "cell_type": "code",
   "execution_count": 7,
   "metadata": {},
   "outputs": [],
   "source": [
    "omega1=np.append(np.append(W1, V.T, axis=1), b1, axis=1)"
   ]
  },
  {
   "cell_type": "code",
   "execution_count": 8,
   "metadata": {},
   "outputs": [
    {
     "data": {
      "text/plain": [
       "array([[ 1.68579445e-01,  7.09165403e-02,  3.45881538e-02,\n",
       "         1.00000000e+00],\n",
       "       [-5.76090059e-02, -3.41515922e-05,  5.32581275e-01,\n",
       "         1.00000000e+00],\n",
       "       [ 7.93295065e-02,  2.38120398e-01,  1.21251538e-01,\n",
       "         1.00000000e+00],\n",
       "       [-8.42784201e-02, -9.16732845e-02,  2.10458430e-01,\n",
       "         1.00000000e+00],\n",
       "       [-5.08738212e-01, -1.29429222e-01,  1.30123263e-01,\n",
       "         1.00000000e+00]])"
      ]
     },
     "execution_count": 8,
     "metadata": {},
     "output_type": "execute_result"
    }
   ],
   "source": [
    "omega1"
   ]
  },
  {
   "cell_type": "code",
   "execution_count": 128,
   "metadata": {},
   "outputs": [],
   "source": [
    "Y_predicted=[predicting(X_train.T[i],b1,W1,V,1) for i in range(X_train.shape[1])]"
   ]
  },
  {
   "cell_type": "code",
   "execution_count": 129,
   "metadata": {},
   "outputs": [
    {
     "data": {
      "text/plain": [
       "165.59669528463465"
      ]
     },
     "execution_count": 129,
     "metadata": {},
     "output_type": "execute_result"
    }
   ],
   "source": [
    "reg_training_error(Y_predicted,Y_train.T,X_train.shape[1], omega1, 0.0001)"
   ]
  },
  {
   "cell_type": "code",
   "execution_count": 9,
   "metadata": {},
   "outputs": [],
   "source": [
    "def delta_E(omega,rho):\n",
    "    return 2*np.linalg.norm(omega,2)*rho"
   ]
  },
  {
   "cell_type": "code",
   "execution_count": 302,
   "metadata": {},
   "outputs": [],
   "source": [
    "W1 = np.random.randn(N,n)*0.1\n",
    "b1 = np.ones(shape=(N, 1))\n",
    "V = np.random.randn(n_y,N)*0.1\n",
    "eta=3\n",
    "rho=0.0001\n",
    "sigma0=1\n",
    "omega0=np.append(np.append(W1, V.T, axis=1), b1, axis=1)\n",
    "Y_predicted=[predicting(X_train.T[i],b1,W1,V,sigma0) for i in range(X_train.shape[1])]\n",
    "reg_training_error(Y_predicted,Y_train.T,X_train.shape[1], omega0, rho)\n",
    "err=[]\n",
    "c=0\n",
    "for c in range(100):\n",
    "    eta= abs(eta -(0.01*eta/(c+1)))\n",
    "    omega=omega0 - eta*delta_E(omega0,rho)\n",
    "    omega0=omega\n",
    "    W_new = omega[:,0:2]\n",
    "    V_new = omega[:,2:3]\n",
    "    b_new = omega[:,3:4]\n",
    "    Y_predicted=[predicting(X_train.T[i],b_new,W_new,V_new,sigma0) for i in range(X_train.shape[1])]\n",
    "    err.append(reg_training_error(Y_predicted,Y_train.T,X_train.shape[1], omega, rho))\n",
    "    c=c+1"
   ]
  },
  {
   "cell_type": "code",
   "execution_count": 303,
   "metadata": {},
   "outputs": [
    {
     "data": {
      "text/plain": [
       "158.3368331690668"
      ]
     },
     "execution_count": 303,
     "metadata": {},
     "output_type": "execute_result"
    }
   ],
   "source": [
    "err[99]"
   ]
  },
  {
   "cell_type": "code",
   "execution_count": 304,
   "metadata": {},
   "outputs": [
    {
     "data": {
      "text/plain": [
       "379.52787879893754"
      ]
     },
     "execution_count": 304,
     "metadata": {},
     "output_type": "execute_result"
    }
   ],
   "source": [
    "err[0]"
   ]
  },
  {
   "cell_type": "code",
   "execution_count": 274,
   "metadata": {},
   "outputs": [
    {
     "data": {
      "text/plain": [
       "2.84811212042293"
      ]
     },
     "execution_count": 274,
     "metadata": {},
     "output_type": "execute_result"
    }
   ],
   "source": [
    "eta"
   ]
  },
  {
   "cell_type": "code",
   "execution_count": 275,
   "metadata": {},
   "outputs": [
    {
     "data": {
      "text/plain": [
       "array([[-0.14724273, -0.22591449],\n",
       "       [-0.20364018, -0.01393064],\n",
       "       [-0.06846543, -0.23696529],\n",
       "       [-0.24080435,  0.00726667],\n",
       "       [-0.11534141, -0.2409708 ]])"
      ]
     },
     "execution_count": 275,
     "metadata": {},
     "output_type": "execute_result"
    }
   ],
   "source": [
    "W_new "
   ]
  },
  {
   "cell_type": "code",
   "execution_count": 271,
   "metadata": {},
   "outputs": [
    {
     "data": {
      "text/plain": [
       "array([[-0.14724273, -0.22591449, -0.15986417,  0.87742591],\n",
       "       [-0.20364018, -0.01393064, -0.25938068,  0.87742591],\n",
       "       [-0.06846543, -0.23696529,  0.02175381,  0.87742591],\n",
       "       [-0.24080435,  0.00726667, -0.31740086,  0.87742591],\n",
       "       [-0.11534141, -0.2409708 , -0.03952039,  0.87742591]])"
      ]
     },
     "execution_count": 271,
     "metadata": {},
     "output_type": "execute_result"
    }
   ],
   "source": [
    "omega"
   ]
  },
  {
   "cell_type": "code",
   "execution_count": 78,
   "metadata": {},
   "outputs": [
    {
     "data": {
      "text/plain": [
       "4.0"
      ]
     },
     "execution_count": 78,
     "metadata": {},
     "output_type": "execute_result"
    }
   ],
   "source": [
    "len(oo)/N"
   ]
  },
  {
   "cell_type": "code",
   "execution_count": 10,
   "metadata": {},
   "outputs": [],
   "source": [
    "def second_norm(omega):\n",
    "    return np.linalg.norm(omega,2)**2"
   ]
  },
  {
   "cell_type": "code",
   "execution_count": 209,
   "metadata": {},
   "outputs": [],
   "source": [
    "def reg_training_error(X,y_true,number_of_samples, omega, rho,sigma):\n",
    "    omega=omega.reshape(N,int(len(omega)/N))\n",
    "    Y_pred=predicting(X,omega,sigma)\n",
    "    #print(np.sum((Y_pred-y_true)**2))\n",
    "    #print(number_of_samples)\n",
    "    #print(np.sum((Y_pred-y_true)**2)/(2*number_of_samples))\n",
    "    #print(rho*(second_norm(omega)))\n",
    "    E = (np.sum((Y_pred-y_true)**2)/(2*number_of_samples) + rho*(second_norm(omega)))\n",
    "    omega=omega.flatten()\n",
    "    return E#,Y_pred"
   ]
  },
  {
   "cell_type": "code",
   "execution_count": 11,
   "metadata": {},
   "outputs": [],
   "source": [
    "def hyp_tan(t,sigma):\n",
    "    return (2*np.exp(2*sigma*t)-1)/(2*np.exp(2*sigma*t)+1)"
   ]
  },
  {
   "cell_type": "code",
   "execution_count": 12,
   "metadata": {},
   "outputs": [],
   "source": [
    "def predicting(z0,omega,sigma):\n",
    "    W = omega[:,1:3]\n",
    "    V = omega[:,0:1]\n",
    "    b = omega[:,3:4]\n",
    "    Y_predicted=[predicting_1_ouput(z0[i],b,W,V,sigma) for i in range((z0.T).shape[1])]#(z0.T).shape[1]\n",
    "    return np.array(Y_predicted)"
   ]
  },
  {
   "cell_type": "code",
   "execution_count": 13,
   "metadata": {},
   "outputs": [],
   "source": [
    "def predicting_1_ouput(z0,b,W,V,sigma):\n",
    "    #print(\"W\")\n",
    "    #print(W)\n",
    "    #print(\"X\")\n",
    "   # print(z0)\n",
    "    z1= np.dot(W,z0)-b.T\n",
    "    #print(\"z1\")\n",
    "    #print(np.sum(V*hyp_tan(z1,sigma)))\n",
    "    return np.sum(V*hyp_tan(z1,sigma))"
   ]
  },
  {
   "cell_type": "code",
   "execution_count": 53,
   "metadata": {},
   "outputs": [],
   "source": [
    "W1 = np.random.randn(N,n)\n",
    "b1 = np.ones(shape=(N, 1))\n",
    "V = np.random.randn(n_y,N)\n",
    "omega0=np.append(np.append(V.T,W1, axis=1), b1, axis=1)"
   ]
  },
  {
   "cell_type": "code",
   "execution_count": 54,
   "metadata": {},
   "outputs": [
    {
     "ename": "TypeError",
     "evalue": "reg_training_error() takes 1 positional argument but 6 were given",
     "output_type": "error",
     "traceback": [
      "\u001b[0;31m---------------------------------------------------------------------------\u001b[0m",
      "\u001b[0;31mTypeError\u001b[0m                                 Traceback (most recent call last)",
      "\u001b[0;32m<ipython-input-54-61a0a3526047>\u001b[0m in \u001b[0;36m<module>\u001b[0;34m\u001b[0m\n\u001b[0;32m----> 1\u001b[0;31m \u001b[0me\u001b[0m\u001b[0;34m,\u001b[0m\u001b[0myp\u001b[0m\u001b[0;34m=\u001b[0m\u001b[0mreg_training_error\u001b[0m\u001b[0;34m(\u001b[0m\u001b[0mX_train\u001b[0m\u001b[0;34m.\u001b[0m\u001b[0mT\u001b[0m\u001b[0;34m,\u001b[0m\u001b[0mY_train\u001b[0m\u001b[0;34m,\u001b[0m\u001b[0mX_train\u001b[0m\u001b[0;34m.\u001b[0m\u001b[0mshape\u001b[0m\u001b[0;34m[\u001b[0m\u001b[0;36m1\u001b[0m\u001b[0;34m]\u001b[0m\u001b[0;34m,\u001b[0m \u001b[0momega0\u001b[0m\u001b[0;34m.\u001b[0m\u001b[0mflatten\u001b[0m\u001b[0;34m(\u001b[0m\u001b[0;34m)\u001b[0m\u001b[0;34m,\u001b[0m \u001b[0mrho\u001b[0m\u001b[0;34m,\u001b[0m\u001b[0msigma0\u001b[0m\u001b[0;34m)\u001b[0m\u001b[0;34m\u001b[0m\u001b[0;34m\u001b[0m\u001b[0m\n\u001b[0m",
      "\u001b[0;31mTypeError\u001b[0m: reg_training_error() takes 1 positional argument but 6 were given"
     ]
    }
   ],
   "source": [
    "e,yp=reg_training_error(X_train.T,Y_train,X_train.shape[1], omega0.flatten(), rho,sigma0)"
   ]
  },
  {
   "cell_type": "code",
   "execution_count": 174,
   "metadata": {},
   "outputs": [
    {
     "data": {
      "text/plain": [
       "10.377958836768968"
      ]
     },
     "execution_count": 174,
     "metadata": {},
     "output_type": "execute_result"
    }
   ],
   "source": [
    "second_norm(omega0)"
   ]
  },
  {
   "cell_type": "code",
   "execution_count": 175,
   "metadata": {},
   "outputs": [
    {
     "data": {
      "text/plain": [
       "1e-05"
      ]
     },
     "execution_count": 175,
     "metadata": {},
     "output_type": "execute_result"
    }
   ],
   "source": [
    "rho"
   ]
  },
  {
   "cell_type": "code",
   "execution_count": 176,
   "metadata": {},
   "outputs": [
    {
     "data": {
      "text/plain": [
       "15.512946951339426"
      ]
     },
     "execution_count": 176,
     "metadata": {},
     "output_type": "execute_result"
    }
   ],
   "source": [
    "e"
   ]
  },
  {
   "cell_type": "code",
   "execution_count": 177,
   "metadata": {},
   "outputs": [
    {
     "data": {
      "text/plain": [
       "15.512843171751058"
      ]
     },
     "execution_count": 177,
     "metadata": {},
     "output_type": "execute_result"
    }
   ],
   "source": [
    "np.sum((yp-Y_train)**2)/(2*210)"
   ]
  },
  {
   "cell_type": "code",
   "execution_count": 251,
   "metadata": {},
   "outputs": [],
   "source": [
    "W1 = np.random.randn(N,n)*0.1\n",
    "b1 = np.ones(shape=(N, 1))\n",
    "V = np.random.randn(n_y,N)*0.1\n",
    "eta=3\n",
    "rho=0.00001\n",
    "sigma0=1\n",
    "omega0=np.append(np.append(V.T,W1, axis=1), b1, axis=1)\n",
    "\n",
    "reg_training_error(X_train.T,Y_train,X_train.shape[1], omega0.flatten(), rho,sigma0)\n",
    "err=[]\n",
    "c=0\n",
    "for c in range(100):\n",
    "    eta=abs(eta -(0.01*eta/(c+1)))\n",
    "    delta=delta_E(omega0,rho)\n",
    "    omega=omega0 - eta*delta\n",
    "    if delta<0.0000000001:\n",
    "        break\n",
    "    omega0=omega\n",
    "    W_new = omega[:,1:3]\n",
    "    V_new = omega[:,0:1]\n",
    "    b_new = omega[:,3:4]\n",
    "    \n",
    "    err.append(reg_training_error(X_train.T,Y_train,X_train.shape[1], omega.flatten(), rho,sigma0))\n",
    "    #c=c+1"
   ]
  },
  {
   "cell_type": "code",
   "execution_count": 252,
   "metadata": {},
   "outputs": [
    {
     "data": {
      "text/plain": [
       "0.7627291193418683"
      ]
     },
     "execution_count": 252,
     "metadata": {},
     "output_type": "execute_result"
    }
   ],
   "source": [
    "err[-1]"
   ]
  },
  {
   "cell_type": "code",
   "execution_count": 253,
   "metadata": {},
   "outputs": [
    {
     "data": {
      "text/plain": [
       "100"
      ]
     },
     "execution_count": 253,
     "metadata": {},
     "output_type": "execute_result"
    }
   ],
   "source": [
    "len(err)"
   ]
  },
  {
   "cell_type": "code",
   "execution_count": 205,
   "metadata": {},
   "outputs": [
    {
     "data": {
      "text/plain": [
       "10.017539159291536"
      ]
     },
     "execution_count": 205,
     "metadata": {},
     "output_type": "execute_result"
    }
   ],
   "source": [
    "np.sum((err[-1][1]-Y_train)**2)/420"
   ]
  },
  {
   "cell_type": "code",
   "execution_count": null,
   "metadata": {},
   "outputs": [],
   "source": []
  },
  {
   "cell_type": "code",
   "execution_count": 65,
   "metadata": {},
   "outputs": [],
   "source": [
    "X= X_train.T\n",
    "y_true = Y_train\n",
    "number_of_samples = X_train.shape[1]\n",
    "def reg_training_error(input_list):\n",
    "    omega =input_list# np.array(input_list[:-2])\n",
    "    rho=0.000001\n",
    "    sigma=1\n",
    "    #rho   = input_list[1] \n",
    "    #sigma = input_list[2]\n",
    "    omega=omega.reshape(N,int(len(omega)/N))\n",
    "    Y_pred=predicting(X,omega,sigma)\n",
    "    #print(np.sum((Y_pred-y_true)**2))\n",
    "    #print(number_of_samples)\n",
    "    #print(np.sum((Y_pred-y_true)**2)/(2*number_of_samples))\n",
    "    #print(rho*(second_norm(omega)))\n",
    "    E = (np.sum((Y_pred-y_true)**2)/(2*number_of_samples) + rho*(second_norm(omega)))\n",
    "    omega=omega.flatten()\n",
    "    return E#,Y_pred"
   ]
  },
  {
   "cell_type": "code",
   "execution_count": 66,
   "metadata": {},
   "outputs": [],
   "source": [
    "from scipy.optimize import minimize\n",
    "input_1=omega0.flatten().tolist()\n",
    "input_1.extend([0.0001,5])"
   ]
  },
  {
   "cell_type": "code",
   "execution_count": 73,
   "metadata": {},
   "outputs": [],
   "source": [
    "res = minimize(reg_training_error, omega0)#,method='Nelder-Mead')"
   ]
  },
  {
   "cell_type": "code",
   "execution_count": 74,
   "metadata": {},
   "outputs": [
    {
     "data": {
      "text/plain": [
       "      fun: 0.07517994799689572\n",
       " hess_inv: array([[ 4.25097180e+00, -4.59553684e+00,  1.98426739e-01,\n",
       "        -3.58156608e+00,  3.12093620e+00,  5.14129120e-01,\n",
       "        -1.65765257e+01,  9.29193339e+00,  3.14321993e+00,\n",
       "         1.02968456e+00,  2.56303798e+00, -2.73123813e+00,\n",
       "         3.56254398e+00,  1.26878390e+00,  1.16944039e+01,\n",
       "        -3.62877672e+00,  3.17989871e+00, -5.18862882e+00,\n",
       "         9.14811327e+00,  1.69810195e+01],\n",
       "       [-4.59553684e+00,  2.53787406e+01, -1.24599754e-01,\n",
       "         2.04796676e+01, -4.50356129e+00, -1.00985655e+00,\n",
       "         1.32473262e+01, -5.01635985e+00, -4.52081315e+00,\n",
       "         5.92006687e+00, -2.82793083e+00, -7.46592201e+00,\n",
       "        -4.81726658e+00, -2.06234975e+00, -4.31864426e+00,\n",
       "        -3.43756256e+00, -4.54412589e+00,  3.32776826e+00,\n",
       "        -1.04094911e+01, -1.58606042e+01],\n",
       "       [ 1.98426739e-01, -1.24599754e-01,  4.48819915e+00,\n",
       "        -1.46848802e+00,  1.76087357e-01,  2.62723722e-01,\n",
       "        -3.73811322e+00,  1.03472505e+00,  1.82154327e-01,\n",
       "        -1.18707727e+00, -5.99397394e-01,  2.94359267e-01,\n",
       "         2.55258258e-01,  2.61948652e-01,  1.12405033e+00,\n",
       "         4.51957988e-01,  1.86866940e-01, -1.61012074e+00,\n",
       "         1.42326122e+00,  3.79893176e+00],\n",
       "       [-3.58156608e+00,  2.04796676e+01, -1.46848802e+00,\n",
       "         2.34199898e+01, -3.49610581e+00, -1.97991679e+00,\n",
       "         1.19659073e+01, -5.69299378e+00, -3.50619400e+00,\n",
       "         1.32460006e+01, -2.41086582e+00, -1.03980232e+01,\n",
       "        -3.81515649e+00, -7.79970290e-01, -9.77424083e-01,\n",
       "        -5.03349808e+00, -3.53151337e+00,  3.73212517e+00,\n",
       "        -1.02873984e+01, -1.70913717e+01],\n",
       "       [ 3.12093620e+00, -4.50356129e+00,  1.76087357e-01,\n",
       "        -3.49610581e+00,  3.99987786e+00,  4.37165166e-01,\n",
       "        -1.58094223e+01,  8.73047442e+00,  3.02049589e+00,\n",
       "         9.72574115e-01,  2.46735159e+00, -2.57673840e+00,\n",
       "         3.41249783e+00,  1.26701548e+00,  1.05936223e+01,\n",
       "        -2.83454046e+00,  3.05466255e+00, -4.97161557e+00,\n",
       "         8.78491559e+00,  1.62857749e+01],\n",
       "       [ 5.14129120e-01, -1.00985655e+00,  2.62723722e-01,\n",
       "        -1.97991679e+00,  4.37165166e-01,  3.48134088e+00,\n",
       "        -3.70486205e+00,  6.43750128e+00,  4.51441920e-01,\n",
       "        -1.68271947e+00, -6.31865722e-01, -2.40202879e-01,\n",
       "         6.78850927e-01, -2.62465411e+00,  7.05997424e+00,\n",
       "        -8.36046635e+00,  4.72938740e-01, -1.02057823e+00,\n",
       "         1.64853678e+00,  3.40345862e+00],\n",
       "       [-1.65765257e+01,  1.32473262e+01, -3.73811322e+00,\n",
       "         1.19659073e+01, -1.58094223e+01, -3.70486205e+00,\n",
       "         1.23518586e+02, -6.42191653e+01, -1.60867719e+01,\n",
       "        -6.01072424e+00, -1.23095378e+01,  1.66613036e+01,\n",
       "        -1.80954384e+01, -5.67187789e+00, -7.12152259e+01,\n",
       "         1.27820274e+01, -1.62140726e+01,  2.48462838e+01,\n",
       "        -3.95947488e+01, -7.86930817e+01],\n",
       "       [ 9.29193339e+00, -5.01635985e+00,  1.03472505e+00,\n",
       "        -5.69299378e+00,  8.73047442e+00,  6.43750128e+00,\n",
       "        -6.42191653e+01,  4.42262619e+01,  8.87067011e+00,\n",
       "         3.65900341e+00,  5.24921256e+00, -1.15748965e+01,\n",
       "         1.04866927e+01, -5.71838488e-01,  6.06076989e+01,\n",
       "        -3.56320785e+01,  9.00473289e+00, -1.49582187e+01,\n",
       "         2.37660075e+01,  4.69152017e+01],\n",
       "       [ 3.14321993e+00, -4.52081315e+00,  1.82154327e-01,\n",
       "        -3.50619400e+00,  3.02049589e+00,  4.51441920e-01,\n",
       "        -1.60867719e+01,  8.87067011e+00,  4.04225870e+00,\n",
       "         9.83326023e-01,  2.47748616e+00, -2.59278814e+00,\n",
       "         3.43664446e+00,  1.27095437e+00,  1.07712457e+01,\n",
       "        -2.88600054e+00,  3.07636926e+00, -4.97732039e+00,\n",
       "         8.78920840e+00,  1.63158469e+01],\n",
       "       [ 1.02968456e+00,  5.92006687e+00, -1.18707727e+00,\n",
       "         1.32460006e+01,  9.72574115e-01, -1.68271947e+00,\n",
       "        -6.01072424e+00,  3.65900341e+00,  9.83326023e-01,\n",
       "         1.58627825e+01,  5.01063650e-01, -1.06861179e+01,\n",
       "         1.13739860e+00,  1.21431551e+00,  1.39071163e+01,\n",
       "        -1.04563230e+01,  1.00016593e+00, -2.05792638e+00,\n",
       "         5.75174847e-01,  1.98175472e+00],\n",
       "       [ 2.56303798e+00, -2.82793083e+00, -5.99397394e-01,\n",
       "        -2.41086582e+00,  2.46735159e+00, -6.31865722e-01,\n",
       "        -1.23095378e+01,  5.24921256e+00,  2.47748616e+00,\n",
       "         5.01063650e-01,  5.64531347e+00, -2.69874932e+00,\n",
       "         2.81966276e+00,  1.61057669e+00,  7.77183069e+00,\n",
       "        -1.39686974e+00,  2.50815271e+00, -5.57781800e+00,\n",
       "         7.34931540e+00,  1.68478995e+01],\n",
       "       [-2.73123813e+00, -7.46592201e+00,  2.94359267e-01,\n",
       "        -1.03980232e+01, -2.57673840e+00, -2.40202879e-01,\n",
       "         1.66613036e+01, -1.15748965e+01, -2.59278814e+00,\n",
       "        -1.06861179e+01, -2.69874932e+00,  1.27222228e+01,\n",
       "        -3.11313098e+00, -5.58668932e-01, -1.89176799e+01,\n",
       "         1.18520782e+01, -2.64410809e+00,  7.10263299e+00,\n",
       "        -8.17336016e+00, -1.81960087e+01],\n",
       "       [ 3.56254398e+00, -4.81726658e+00,  2.55258258e-01,\n",
       "        -3.81515649e+00,  3.41249783e+00,  6.78850927e-01,\n",
       "        -1.80954384e+01,  1.04866927e+01,  3.43664446e+00,\n",
       "         1.13739860e+00,  2.81966276e+00, -3.11313098e+00,\n",
       "         4.92327817e+00,  1.27887582e+00,  1.41179883e+01,\n",
       "        -5.46165725e+00,  3.48006430e+00, -5.78987272e+00,\n",
       "         1.01658920e+01,  1.88831145e+01],\n",
       "       [ 1.26878390e+00, -2.06234975e+00,  2.61948652e-01,\n",
       "        -7.79970290e-01,  1.26701548e+00, -2.62465411e+00,\n",
       "        -5.67187789e+00, -5.71838488e-01,  1.27095437e+00,\n",
       "         1.21431551e+00,  1.61057669e+00, -5.58668932e-01,\n",
       "         1.27887582e+00,  3.35862500e+00,  2.40205304e-01,\n",
       "         4.99180505e+00,  1.26881609e+00, -1.48167362e+00,\n",
       "         2.73020833e+00,  4.94477417e+00],\n",
       "       [ 1.16944039e+01, -4.31864426e+00,  1.12405033e+00,\n",
       "        -9.77424083e-01,  1.05936223e+01,  7.05997424e+00,\n",
       "        -7.12152259e+01,  6.06076989e+01,  1.07712457e+01,\n",
       "         1.39071163e+01,  7.77183069e+00, -1.89176799e+01,\n",
       "         1.41179883e+01,  2.40205304e-01,  1.63449617e+02,\n",
       "        -1.34694939e+02,  1.11000347e+01, -2.01720762e+01,\n",
       "         3.27279350e+01,  6.18814015e+01],\n",
       "       [-3.62877672e+00, -3.43756256e+00,  4.51957988e-01,\n",
       "        -5.03349808e+00, -2.83454046e+00, -8.36046635e+00,\n",
       "         1.27820274e+01, -3.56320785e+01, -2.88600054e+00,\n",
       "        -1.04563230e+01, -1.39686974e+00,  1.18520782e+01,\n",
       "        -5.46165725e+00,  4.99180505e+00, -1.34694939e+02,\n",
       "         1.38560075e+02, -3.17385825e+00,  8.87395067e+00,\n",
       "        -1.38596270e+01, -2.55216129e+01],\n",
       "       [ 3.17989871e+00, -4.54412589e+00,  1.86866940e-01,\n",
       "        -3.53151337e+00,  3.05466255e+00,  4.72938740e-01,\n",
       "        -1.62140726e+01,  9.00473289e+00,  3.07636926e+00,\n",
       "         1.00016593e+00,  2.50815271e+00, -2.64410809e+00,\n",
       "         3.48006430e+00,  1.26881609e+00,  1.11000347e+01,\n",
       "        -3.17385825e+00,  4.11150988e+00, -5.05839532e+00,\n",
       "         8.92774518e+00,  1.65676055e+01],\n",
       "       [-5.18862882e+00,  3.32776826e+00, -1.61012074e+00,\n",
       "         3.73212517e+00, -4.97161557e+00, -1.02057823e+00,\n",
       "         2.48462838e+01, -1.49582187e+01, -4.97732039e+00,\n",
       "        -2.05792638e+00, -5.57781800e+00,  7.10263299e+00,\n",
       "        -5.78987272e+00, -1.48167362e+00, -2.01720762e+01,\n",
       "         8.87395067e+00, -5.05839532e+00,  1.22903382e+01,\n",
       "        -1.70360010e+01, -3.52461392e+01],\n",
       "       [ 9.14811327e+00, -1.04094911e+01,  1.42326122e+00,\n",
       "        -1.02873984e+01,  8.78491559e+00,  1.64853678e+00,\n",
       "        -3.95947488e+01,  2.37660075e+01,  8.78920840e+00,\n",
       "         5.75174847e-01,  7.34931540e+00, -8.17336016e+00,\n",
       "         1.01658920e+01,  2.73020833e+00,  3.27279350e+01,\n",
       "        -1.38596270e+01,  8.92774518e+00, -1.70360010e+01,\n",
       "         3.30093077e+01,  5.65371996e+01],\n",
       "       [ 1.69810195e+01, -1.58606042e+01,  3.79893176e+00,\n",
       "        -1.70913717e+01,  1.62857749e+01,  3.40345862e+00,\n",
       "        -7.86930817e+01,  4.69152017e+01,  1.63158469e+01,\n",
       "         1.98175472e+00,  1.68478995e+01, -1.81960087e+01,\n",
       "         1.88831145e+01,  4.94477417e+00,  6.18814015e+01,\n",
       "        -2.55216129e+01,  1.65676055e+01, -3.52461392e+01,\n",
       "         5.65371996e+01,  1.09207209e+02]])\n",
       "      jac: array([-1.50408596e-06, -1.00675970e-06, -5.53298742e-06, -5.53391874e-06,\n",
       "       -2.09547579e-06, -3.32389027e-06, -3.88454646e-06, -3.72808427e-06,\n",
       "       -1.57952309e-06, -3.45520675e-07, -5.22285700e-06, -6.95884228e-06,\n",
       "       -8.86619091e-07, -3.03052366e-06, -2.30595469e-06, -2.37394124e-06,\n",
       "       -1.68941915e-06,  8.69855285e-07, -4.45917249e-06,  1.87382102e-06])\n",
       "  message: 'Optimization terminated successfully.'\n",
       "     nfev: 5214\n",
       "      nit: 219\n",
       "     njev: 237\n",
       "   status: 0\n",
       "  success: True\n",
       "        x: array([-0.7255547 , -1.68490665,  0.04846474, -0.40314495, -1.80480972,\n",
       "        0.32774686, -2.06486793,  2.06767126,  0.60493611,  1.23423902,\n",
       "       -0.04027107,  0.05192901, -0.84148981,  0.01817851,  3.11682585,\n",
       "       -2.59112831, -0.37353779, -0.35821762,  1.00543631,  1.9794965 ])"
      ]
     },
     "execution_count": 74,
     "metadata": {},
     "output_type": "execute_result"
    }
   ],
   "source": [
    "res"
   ]
  },
  {
   "cell_type": "code",
   "execution_count": null,
   "metadata": {},
   "outputs": [],
   "source": []
  },
  {
   "cell_type": "code",
   "execution_count": 57,
   "metadata": {},
   "outputs": [],
   "source": [
    "oo=omega0.flatten()"
   ]
  },
  {
   "cell_type": "code",
   "execution_count": 58,
   "metadata": {},
   "outputs": [
    {
     "data": {
      "text/plain": [
       "array([-0.46780186, -2.36661696,  1.90216344,  1.        , -1.5331747 ,\n",
       "       -0.03984514, -0.56101388,  1.        ,  0.87300166,  1.25201593,\n",
       "        0.83551565,  1.        , -0.61641501, -1.05838514,  0.53180925,\n",
       "        1.        , -0.10905156,  0.43747431,  1.11710414,  1.        ])"
      ]
     },
     "execution_count": 58,
     "metadata": {},
     "output_type": "execute_result"
    }
   ],
   "source": [
    "oo"
   ]
  },
  {
   "cell_type": "code",
   "execution_count": 82,
   "metadata": {},
   "outputs": [
    {
     "data": {
      "text/plain": [
       "array([[-0.04135224,  0.01083977,  0.03262176,  0.9871645 ],\n",
       "       [-0.05923252, -0.24072998, -0.18008022,  0.9871645 ],\n",
       "       [-0.00775125, -0.030291  , -0.09399489,  0.9871645 ],\n",
       "       [-0.22692822,  0.0021534 , -0.04720819,  0.9871645 ],\n",
       "       [ 0.00783853, -0.06675953,  0.03291857,  0.9871645 ]])"
      ]
     },
     "execution_count": 82,
     "metadata": {},
     "output_type": "execute_result"
    }
   ],
   "source": [
    "omega0"
   ]
  },
  {
   "cell_type": "code",
   "execution_count": 70,
   "metadata": {},
   "outputs": [
    {
     "data": {
      "text/plain": [
       "array([[-0.04135224,  0.01083977,  0.03262176,  0.9871645 ],\n",
       "       [-0.05923252, -0.24072998, -0.18008022,  0.9871645 ],\n",
       "       [-0.00775125, -0.030291  , -0.09399489,  0.9871645 ],\n",
       "       [-0.22692822,  0.0021534 , -0.04720819,  0.9871645 ],\n",
       "       [ 0.00783853, -0.06675953,  0.03291857,  0.9871645 ]])"
      ]
     },
     "execution_count": 70,
     "metadata": {},
     "output_type": "execute_result"
    }
   ],
   "source": [
    "oo.reshape(5,4)"
   ]
  },
  {
   "cell_type": "code",
   "execution_count": null,
   "metadata": {},
   "outputs": [],
   "source": []
  }
 ],
 "metadata": {
  "kernelspec": {
   "display_name": "Python 3",
   "language": "python",
   "name": "python3"
  },
  "language_info": {
   "codemirror_mode": {
    "name": "ipython",
    "version": 3
   },
   "file_extension": ".py",
   "mimetype": "text/x-python",
   "name": "python",
   "nbconvert_exporter": "python",
   "pygments_lexer": "ipython3",
   "version": "3.6.8"
  }
 },
 "nbformat": 4,
 "nbformat_minor": 2
}
