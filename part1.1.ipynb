{
 "cells": [
  {
   "cell_type": "code",
   "execution_count": 13,
   "metadata": {},
   "outputs": [],
   "source": [
    "import numpy as np\n",
    "import pandas as pd\n",
    "import random\n",
    "from sklearn.model_selection import train_test_split\n",
    "import matplotlib.pyplot as plt\n",
    "from scipy.optimize import minimize"
   ]
  },
  {
   "cell_type": "code",
   "execution_count": 14,
   "metadata": {},
   "outputs": [],
   "source": [
    "random.seed(1852026)"
   ]
  },
  {
   "cell_type": "code",
   "execution_count": 15,
   "metadata": {},
   "outputs": [],
   "source": [
    "df = pd.read_excel(\"dataPoints.xlsx\")"
   ]
  },
  {
   "cell_type": "code",
   "execution_count": 16,
   "metadata": {},
   "outputs": [],
   "source": [
    "data = df.to_numpy()\n",
    "data_train, data_rest = train_test_split(data, test_size=0.30)\n",
    "data_test, data_val = train_test_split(data_rest, test_size=0.50)\n",
    "data_train, data_validate, data_test = np.split(df.sample(frac=1), [int(.7*len(df)), int(.85*len(df))])\n",
    "data_train = data_train.to_numpy()\n",
    "data_validate = data_validate.to_numpy()\n",
    "data_test = data_test.to_numpy()\n",
    "\n",
    "X_train = np.transpose(data_train[:,0:2])\n",
    "Y_train = np.transpose(data_train[:,2:])\n",
    "X_validate = np.transpose(data_validate[:,0:2])\n",
    "Y_validate = np.transpose(data_validate[:,2:])\n",
    "X_test = np.transpose(data_test[:,0:2])\n",
    "Y_test = np.transpose(data_test[:,2:])"
   ]
  },
  {
   "cell_type": "code",
   "execution_count": 17,
   "metadata": {},
   "outputs": [],
   "source": [
    "n = X_train.shape[0] # Size of the input vector X\n",
    "n_y = Y_train.shape[0] # Size of the input vector Y\n",
    "p = X_train.shape[1] # Size of the sample\n",
    "N = 10 # size of the hidden layer, # neurons, this is just for the moment to have some example"
   ]
  },
  {
   "cell_type": "code",
   "execution_count": 18,
   "metadata": {},
   "outputs": [],
   "source": [
    "def initialize_parameters(n, N, n_y):\n",
    "    \"\"\"\n",
    "    Argument:\n",
    "    n -- size of the input layer\n",
    "    N -- size of the hidden layer\n",
    "    p -- size of the sample\n",
    "    n_y -- size of the output layer\n",
    "    \n",
    "    Returns:\n",
    "    params -- python dictionary containing your parameters:\n",
    "                    W1 -- weight matrix of shape (N, n)\n",
    "                    b1 -- bias vector of shape (N, 1)\n",
    "                    V -- weight matrix of shape (n_y, N)\n",
    "    \"\"\"\n",
    "        \n",
    "    W1 = np.random.randn(N,n)\n",
    "    b1 = np.zeros(shape=(N, 1))\n",
    "    V = np.random.randn(n_y,N)\n",
    "    \n",
    "    \n",
    "    parameters = {\"W1\": W1,\n",
    "                  \"b1\": b1,\n",
    "                  \"V\": V}\n",
    "    \n",
    "    return parameters"
   ]
  },
  {
   "cell_type": "code",
   "execution_count": 19,
   "metadata": {},
   "outputs": [],
   "source": [
    "def second_norm(omega):\n",
    "    return np.linalg.norm(omega)**2"
   ]
  },
  {
   "cell_type": "code",
   "execution_count": 20,
   "metadata": {},
   "outputs": [],
   "source": [
    "def hyp_tan(t,sigma):\n",
    "    return (2*np.exp(2*sigma*t)-1)/(2*np.exp(2*sigma*t)+1)"
   ]
  },
  {
   "cell_type": "code",
   "execution_count": 21,
   "metadata": {},
   "outputs": [],
   "source": [
    "def predicting(z0,omega,sigma):\n",
    "    W = omega[:,1:3]\n",
    "    V = omega[:,0:1]\n",
    "    b = omega[:,3:4]\n",
    "    Y_predicted=[predicting_1_ouput(z0[i],b,W,V,sigma) for i in range((z0.T).shape[1])]#(z0.T).shape[1]\n",
    "    return np.array(Y_predicted)"
   ]
  },
  {
   "cell_type": "code",
   "execution_count": 38,
   "metadata": {},
   "outputs": [],
   "source": [
    "def predicting_1_ouput(z0,b,W,V,sigma):\n",
    "    #print(\"W\")\n",
    "    #print(W)\n",
    "    #print(\"X\")\n",
    "   # print(z0)\n",
    "    z1= np.dot(W,z0)-b.T\n",
    "    #print(\"z1\")\n",
    "    #print(np.sum(V*hyp_tan(z1,sigma)))\n",
    "    return np.sum(V*hyp_tan(z1,sigma))"
   ]
  },
  {
   "cell_type": "code",
   "execution_count": 39,
   "metadata": {},
   "outputs": [],
   "source": [
    "params = initialize_parameters(n, N, n_y)\n",
    "W1 = params['W1']\n",
    "b1 = params['b1']\n",
    "V = params['V']\n",
    "omega0=np.append(np.append(V.T,W1, axis=1), b1, axis=1)"
   ]
  },
  {
   "cell_type": "code",
   "execution_count": 36,
   "metadata": {},
   "outputs": [
    {
     "data": {
      "text/plain": [
       "array([[ 0.29208162, -0.61886267, -0.75095845,  0.        ],\n",
       "       [-0.2645636 , -1.04685831,  1.58369986,  0.        ],\n",
       "       [-1.06396157, -1.17123919,  0.22625897,  0.        ],\n",
       "       [ 0.45870124, -2.39574741, -0.02157824,  0.        ],\n",
       "       [ 0.21850995,  1.32005357,  0.51104727,  0.        ],\n",
       "       [ 0.36415071,  1.66642432, -1.6839206 ,  0.        ],\n",
       "       [-0.937911  ,  0.67226585, -0.18750988,  0.        ],\n",
       "       [ 1.29803057, -0.75507795, -1.20779857,  0.        ],\n",
       "       [ 0.917579  ,  0.95895849,  1.70017573,  0.        ],\n",
       "       [ 1.52964646,  1.57413023,  0.95332683,  0.        ]])"
      ]
     },
     "execution_count": 36,
     "metadata": {},
     "output_type": "execute_result"
    }
   ],
   "source": [
    "omega0"
   ]
  },
  {
   "cell_type": "code",
   "execution_count": 41,
   "metadata": {},
   "outputs": [],
   "source": [
    "X= X_train.T\n",
    "y_true = Y_train\n",
    "number_of_samples = X_train.shape[1]\n",
    "def reg_training_error(input_list):\n",
    "    omega =input_list# np.array(input_list[:-2])\n",
    "    rho=0.00001\n",
    "    sigma=2\n",
    "    #rho   = input_list[1] \n",
    "    #sigma = input_list[2]\n",
    "    omega=omega.reshape(N,int(len(omega)/N))\n",
    "    Y_pred=predicting(X,omega,sigma)\n",
    "    #print(np.sum((Y_pred-y_true)**2))\n",
    "    #print(number_of_samples)\n",
    "    #print(np.sum((Y_pred-y_true)**2)/(2*number_of_samples))\n",
    "    #print(rho*(second_norm(omega)))\n",
    "    E = (np.sum((Y_pred-y_true)**2)/(2*number_of_samples) + rho*(second_norm(omega)))\n",
    "    omega=omega.flatten()\n",
    "    return E#,Y_pred"
   ]
  },
  {
   "cell_type": "code",
   "execution_count": 42,
   "metadata": {},
   "outputs": [],
   "source": [
    "res = minimize(reg_training_error, omega0)#,method='Nelder-Mead')"
   ]
  },
  {
   "cell_type": "code",
   "execution_count": 43,
   "metadata": {},
   "outputs": [
    {
     "data": {
      "text/plain": [
       "      fun: 0.041191475483422356\n",
       " hess_inv: array([[ 1.49348975e+01,  2.51674030e+00, -3.06865067e+00, ...,\n",
       "         1.94281406e+01,  1.41003601e+01, -2.38892648e+01],\n",
       "       [ 2.51674030e+00,  1.20239661e+04,  4.71950742e+03, ...,\n",
       "        -8.05367048e+03, -3.08128111e+03,  2.62854609e+03],\n",
       "       [-3.06865067e+00,  4.71950742e+03,  1.93449719e+03, ...,\n",
       "        -3.15740985e+03, -1.27900158e+03,  1.03003461e+03],\n",
       "       ...,\n",
       "       [ 1.94281406e+01, -8.05367048e+03, -3.15740985e+03, ...,\n",
       "         6.24591857e+03,  2.48713328e+03, -2.29763824e+03],\n",
       "       [ 1.41003601e+01, -3.08128111e+03, -1.27900158e+03, ...,\n",
       "         2.48713328e+03,  1.06910350e+03, -9.44156717e+02],\n",
       "       [-2.38892648e+01,  2.62854609e+03,  1.03003461e+03, ...,\n",
       "        -2.29763824e+03, -9.44156717e+02,  9.46806145e+02]])\n",
       "      jac: array([ 1.18929893e-06, -4.38652933e-07, -3.72529030e-07, -1.84681267e-06,\n",
       "        1.05286017e-06,  6.73811883e-07,  2.24914402e-07, -2.81259418e-07,\n",
       "        1.09337270e-06, -2.15973705e-06, -4.66592610e-07, -1.92131847e-06,\n",
       "        1.37463212e-06,  7.64615834e-07,  3.06405127e-07, -1.20606273e-06,\n",
       "        1.33737922e-06, -8.11647624e-07,  9.40635800e-08, -1.80490315e-06,\n",
       "        1.04960054e-06,  2.45403498e-06,  4.81959432e-07, -2.66963616e-06,\n",
       "        1.15111470e-06,  5.23868948e-07,  2.30502337e-07, -2.44937837e-07,\n",
       "        1.18557364e-06, -1.20373443e-06, -3.14321369e-07, -5.24334610e-07,\n",
       "        9.25268978e-07, -6.88247383e-07,  7.78120011e-07, -3.56230885e-06,\n",
       "        1.02259219e-06, -4.94532287e-07, -3.88827175e-07, -1.85845420e-06])\n",
       "  message: 'Optimization terminated successfully.'\n",
       "     nfev: 15414\n",
       "      nit: 342\n",
       "     njev: 367\n",
       "   status: 0\n",
       "  success: True\n",
       "        x: array([ 2.27808323e-01,  4.40953695e+00,  2.07894979e+00, -1.19650358e+00,\n",
       "        2.20995552e-01,  2.75750126e+00, -9.06568481e-02,  5.35639398e+00,\n",
       "        2.23036766e-01,  3.48483773e-01, -4.92324970e-02, -6.50095269e-01,\n",
       "        2.37088046e-01,  1.08818372e+00,  1.74447972e-01,  8.91198585e-01,\n",
       "        2.35240167e-01, -8.93580208e-01,  2.18155191e-01,  6.76129772e-01,\n",
       "        2.20839868e-01, -4.15985878e-01,  2.83353089e-01, -4.90768394e-01,\n",
       "        2.25939037e-01, -1.08367597e+00,  4.87762567e-01, -2.12453417e+00,\n",
       "        2.27669627e-01, -3.17097708e+00,  5.69328573e-03,  6.45501934e+00,\n",
       "        2.14641636e-01,  1.83566906e-01, -4.60525627e-01, -2.89941051e-01,\n",
       "        2.19472780e-01, -3.73077825e+00, -1.77467692e+00,  1.43532516e+00])"
      ]
     },
     "execution_count": 43,
     "metadata": {},
     "output_type": "execute_result"
    }
   ],
   "source": [
    "res"
   ]
  },
  {
   "cell_type": "code",
   "execution_count": 44,
   "metadata": {},
   "outputs": [
    {
     "data": {
      "text/plain": [
       "0.041191475483422356"
      ]
     },
     "execution_count": 44,
     "metadata": {},
     "output_type": "execute_result"
    }
   ],
   "source": [
    "res['fun']"
   ]
  },
  {
   "cell_type": "code",
   "execution_count": 45,
   "metadata": {},
   "outputs": [
    {
     "data": {
      "text/plain": [
       "array([ 2.27808323e-01,  4.40953695e+00,  2.07894979e+00, -1.19650358e+00,\n",
       "        2.20995552e-01,  2.75750126e+00, -9.06568481e-02,  5.35639398e+00,\n",
       "        2.23036766e-01,  3.48483773e-01, -4.92324970e-02, -6.50095269e-01,\n",
       "        2.37088046e-01,  1.08818372e+00,  1.74447972e-01,  8.91198585e-01,\n",
       "        2.35240167e-01, -8.93580208e-01,  2.18155191e-01,  6.76129772e-01,\n",
       "        2.20839868e-01, -4.15985878e-01,  2.83353089e-01, -4.90768394e-01,\n",
       "        2.25939037e-01, -1.08367597e+00,  4.87762567e-01, -2.12453417e+00,\n",
       "        2.27669627e-01, -3.17097708e+00,  5.69328573e-03,  6.45501934e+00,\n",
       "        2.14641636e-01,  1.83566906e-01, -4.60525627e-01, -2.89941051e-01,\n",
       "        2.19472780e-01, -3.73077825e+00, -1.77467692e+00,  1.43532516e+00])"
      ]
     },
     "execution_count": 45,
     "metadata": {},
     "output_type": "execute_result"
    }
   ],
   "source": [
    "res['x']"
   ]
  },
  {
   "cell_type": "code",
   "execution_count": 46,
   "metadata": {},
   "outputs": [],
   "source": [
    "def reg_training_error_val_test(omega,X,y_true,number_of_samples):\n",
    "    #omega =input_list# np.array(input_list[:-2])\n",
    "    rho=0.00000001\n",
    "    sigma=2\n",
    "    #rho   = input_list[1] \n",
    "    #sigma = input_list[2]\n",
    "    omega=omega.reshape(N,int(len(omega)/N))\n",
    "    Y_pred=predicting(X,omega,sigma)\n",
    "    #print(np.sum((Y_pred-y_true)**2))\n",
    "    #print(number_of_samples)\n",
    "    #print(np.sum((Y_pred-y_true)**2)/(2*number_of_samples))\n",
    "    #print(rho*(second_norm(omega)))\n",
    "    E = (np.sum((Y_pred-y_true)**2)/(2*number_of_samples) + rho*(second_norm(omega)))\n",
    "    #omega=omega.flatten()\n",
    "    return E#,Y_pred"
   ]
  },
  {
   "cell_type": "code",
   "execution_count": 47,
   "metadata": {},
   "outputs": [
    {
     "data": {
      "text/plain": [
       "0.040556920207149606"
      ]
     },
     "execution_count": 47,
     "metadata": {},
     "output_type": "execute_result"
    }
   ],
   "source": [
    "reg_training_error_val_test(res['x'],X_validate.T,Y_validate,X_validate.shape[1])"
   ]
  },
  {
   "cell_type": "code",
   "execution_count": 48,
   "metadata": {},
   "outputs": [
    {
     "data": {
      "text/plain": [
       "0.07397354895363535"
      ]
     },
     "execution_count": 48,
     "metadata": {},
     "output_type": "execute_result"
    }
   ],
   "source": [
    "reg_training_error_val_test(res['x'],X_test.T,Y_test,X_test.shape[1])"
   ]
  },
  {
   "cell_type": "code",
   "execution_count": 40,
   "metadata": {},
   "outputs": [
    {
     "data": {
      "text/plain": [
       "67.08610322093497"
      ]
     },
     "execution_count": 40,
     "metadata": {},
     "output_type": "execute_result"
    }
   ],
   "source": [
    "reg_training_error_val_test(omega0.flatten(),X_train.T,Y_train,X_train.shape[1])"
   ]
  },
  {
   "cell_type": "code",
   "execution_count": null,
   "metadata": {},
   "outputs": [],
   "source": []
  }
 ],
 "metadata": {
  "kernelspec": {
   "display_name": "Python 3",
   "language": "python",
   "name": "python3"
  },
  "language_info": {
   "codemirror_mode": {
    "name": "ipython",
    "version": 3
   },
   "file_extension": ".py",
   "mimetype": "text/x-python",
   "name": "python",
   "nbconvert_exporter": "python",
   "pygments_lexer": "ipython3",
   "version": "3.6.8"
  }
 },
 "nbformat": 4,
 "nbformat_minor": 2
}
