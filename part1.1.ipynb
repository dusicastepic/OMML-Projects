{
 "cells": [
  {
   "cell_type": "code",
   "execution_count": 10,
   "metadata": {},
   "outputs": [],
   "source": [
    "import numpy as np\n",
    "import pandas as pd\n",
    "import random\n",
    "from sklearn.model_selection import train_test_split\n",
    "import matplotlib.pyplot as plt\n",
    "from scipy.optimize import minimize\n",
    "import time"
   ]
  },
  {
   "cell_type": "code",
   "execution_count": 11,
   "metadata": {},
   "outputs": [],
   "source": [
    "random.seed(1852026)"
   ]
  },
  {
   "cell_type": "code",
   "execution_count": 12,
   "metadata": {},
   "outputs": [],
   "source": [
    "df = pd.read_excel(\"dataPoints.xlsx\")"
   ]
  },
  {
   "cell_type": "code",
   "execution_count": 13,
   "metadata": {},
   "outputs": [],
   "source": [
    "def get_data():\n",
    "    data = df.to_numpy()\n",
    "    data_train, data_rest = train_test_split(data, test_size=0.30)\n",
    "    data_test, data_val = train_test_split(data_rest, test_size=0.50)\n",
    "    data_train, data_validate, data_test = np.split(df.sample(frac=1), [int(.7*len(df)), int(.85*len(df))])\n",
    "    data_train = data_train.to_numpy()\n",
    "    data_validate = data_validate.to_numpy()\n",
    "    data_test = data_test.to_numpy()\n",
    "\n",
    "    X_tr = np.transpose(data_train[:,0:2])\n",
    "    Y_tr = np.transpose(data_train[:,2:])\n",
    "    X_val = np.transpose(data_validate[:,0:2])\n",
    "    Y_val = np.transpose(data_validate[:,2:])\n",
    "    X_test = np.transpose(data_test[:,0:2])\n",
    "    Y_test = np.transpose(data_test[:,2:])\n",
    "    return X_tr,Y_tr,X_val,Y_val,X_test,Y_test"
   ]
  },
  {
   "cell_type": "markdown",
   "metadata": {},
   "source": [
    "X_train,Y_train,X_val,Y_val,X_test,Y_test=get_data()"
   ]
  },
  {
   "cell_type": "markdown",
   "metadata": {},
   "source": [
    "X_train[0][0]"
   ]
  },
  {
   "cell_type": "markdown",
   "metadata": {},
   "source": [
    "n = X_train.shape[0] # Size of the input vector X\n",
    "n_y = Y_train.shape[0] # Size of the input vector Y\n",
    "p = X_train.shape[1] # Size of the sample\n",
    "N = 5 # size of the hidden layer, # neurons, this is just for the moment to have some example"
   ]
  },
  {
   "cell_type": "code",
   "execution_count": 14,
   "metadata": {},
   "outputs": [],
   "source": [
    "def initialize_parameters(n, N, n_y):\n",
    "    \"\"\"\n",
    "    Argument:\n",
    "    n -- size of the input layer\n",
    "    N -- size of the hidden layer\n",
    "    p -- size of the sample\n",
    "    n_y -- size of the output layer\n",
    "    \n",
    "    Returns:\n",
    "    params -- python dictionary containing your parameters:\n",
    "                    W1 -- weight matrix of shape (N, n)\n",
    "                    b1 -- bias vector of shape (N, 1)\n",
    "                    V -- weight matrix of shape (n_y, N)\n",
    "    \"\"\"\n",
    "        \n",
    "    W1 = np.random.randn(N,n)\n",
    "    b1 = np.zeros(shape=(N, 1))\n",
    "    V = np.random.randn(n_y,N)\n",
    "    \n",
    "    \n",
    "    parameters = {\"W1\": W1,\n",
    "                  \"b1\": b1,\n",
    "                  \"V\": V}\n",
    "    \n",
    "    return parameters"
   ]
  },
  {
   "cell_type": "code",
   "execution_count": 15,
   "metadata": {},
   "outputs": [],
   "source": [
    "def second_norm(omega):\n",
    "    return np.linalg.norm(omega)**2"
   ]
  },
  {
   "cell_type": "code",
   "execution_count": 16,
   "metadata": {},
   "outputs": [],
   "source": [
    "def second_norm_jac(omega):\n",
    "    return np.linalg.norm(omega)"
   ]
  },
  {
   "cell_type": "code",
   "execution_count": 17,
   "metadata": {},
   "outputs": [],
   "source": [
    "def hyp_tan(t,sigma):\n",
    "    return (np.exp(2*sigma*t)-1)/(np.exp(2*sigma*t)+1)"
   ]
  },
  {
   "cell_type": "code",
   "execution_count": 18,
   "metadata": {},
   "outputs": [],
   "source": [
    "def predicting(z0,omega,sigma):\n",
    "    W = omega[:,1:3]\n",
    "    V = omega[:,0:1]\n",
    "    b = omega[:,3:4]\n",
    "    Y_predicted=[predicting_1_ouput(z0[i],b,W,V,sigma) for i in range((z0.T).shape[1])]#(z0.T).shape[1]\n",
    "    return np.array(Y_predicted)"
   ]
  },
  {
   "cell_type": "code",
   "execution_count": 19,
   "metadata": {},
   "outputs": [],
   "source": [
    "def predicting_1_ouput(z0,b,W,V,sigma):\n",
    "    #print(\"W\")\n",
    "    #print(W.shape)\n",
    "    #print(\"X\")\n",
    "    #print(z0.shape)\n",
    "    z1= np.dot(W,z0)-b.T\n",
    "    #print(\"z1\")\n",
    "    #print(np.sum(V*hyp_tan(z1,sigma)))\n",
    "    return np.sum(V*hyp_tan(z1,sigma))"
   ]
  },
  {
   "cell_type": "markdown",
   "metadata": {},
   "source": [
    "params = initialize_parameters(n, N, n_y)\n",
    "W1 = params['W1']\n",
    "b1 = params['b1']\n",
    "V = params['V']\n",
    "omega0=np.append(np.append(V.T,W1, axis=1), b1, axis=1)"
   ]
  },
  {
   "cell_type": "markdown",
   "metadata": {},
   "source": [
    "omega0"
   ]
  },
  {
   "cell_type": "code",
   "execution_count": 16,
   "metadata": {},
   "outputs": [],
   "source": [
    "#X= X_train.T\n",
    "#y_true = Y_train\n",
    "#number_of_samples = X_train.shape[1]\n",
    "def reg_training_error(input_list):\n",
    "    omega =input_list# np.array(input_list[:-2])\n",
    "    rho=0.00001\n",
    "    sigma=2\n",
    "    #rho   = input_list[1] \n",
    "    #sigma = input_list[2]\n",
    "    omega=omega.reshape(N,int(len(omega)/N))\n",
    "    Y_pred=predicting(X,omega,sigma)\n",
    "    #print(np.sum((Y_pred-y_true)**2))\n",
    "    #print(number_of_samples)\n",
    "    #print(np.sum((Y_pred-y_true)**2)/(2*number_of_samples))\n",
    "    #print(rho*(second_norm(omega)))\n",
    "    E = (np.sum((Y_pred-y_true)**2)/(2*X.shape[0]) + rho*(second_norm(omega)))\n",
    "    omega=omega.flatten()\n",
    "    return E#,Y_pred"
   ]
  },
  {
   "cell_type": "code",
   "execution_count": 65,
   "metadata": {},
   "outputs": [],
   "source": [
    "X, y_true, Xval,Yval, Xtest, Ytest = get_data()\n",
    "X=X.T\n",
    "N=11\n",
    "rho=0.00001\n",
    "sigma=1\n",
    "n = X.shape[1] # Size of the input vector X\n",
    "n_y = y_true.shape[0] # Size of the input vector Y\n",
    "p = X.shape[0] # Size of the sample\n",
    "params = initialize_parameters(n, N, n_y)\n",
    "W1 = params['W1']\n",
    "b1 = params['b1']\n",
    "V = params['V']\n",
    "omega0=np.append(np.append(V.T,W1, axis=1), b1, axis=1)\n",
    "res = minimize(reg_training_error, omega0,method='L-BFGS-B')"
   ]
  },
  {
   "cell_type": "code",
   "execution_count": 66,
   "metadata": {},
   "outputs": [
    {
     "data": {
      "text/plain": [
       "      fun: 0.012961387705247542\n",
       " hess_inv: <44x44 LbfgsInvHessProduct with dtype=float64>\n",
       "      jac: array([ 1.95059247e-05,  8.47444493e-03, -5.10052885e-03,  1.16605907e-02,\n",
       "        7.58074159e-07,  9.50594412e-03, -2.37171220e-03,  3.61469830e-03,\n",
       "       -3.15285992e-06,  5.66912940e-03,  1.75068640e-04,  3.64157818e-03,\n",
       "        5.44200102e-06,  6.66961278e-05,  4.94932220e-05,  1.14512566e-05,\n",
       "       -3.39764675e-05,  3.38687481e-03,  6.97480129e-03,  1.01758831e-02,\n",
       "       -4.27088920e-06,  1.54174382e-03,  1.48631385e-03,  2.52216199e-03,\n",
       "       -5.86995730e-06,  1.19615776e-04,  8.98222642e-04,  6.49260715e-03,\n",
       "        6.77947282e-06,  5.95327641e-03,  2.93151788e-03,  1.07537004e-02,\n",
       "       -2.92684280e-05,  2.41037450e-03,  1.65716781e-03, -1.36983480e-04,\n",
       "       -3.31783212e-05, -1.98691549e-03,  2.45809692e-03,  3.71656143e-03,\n",
       "       -2.71742698e-05,  2.33060134e-03, -4.31011754e-03,  1.04606549e-02])\n",
       "  message: b'STOP: TOTAL NO. of f AND g EVALUATIONS EXCEEDS LIMIT'\n",
       "     nfev: 15030\n",
       "      nit: 294\n",
       "   status: 1\n",
       "  success: False\n",
       "        x: array([ 1.74213403e+00,  2.96697059e-01, -4.13672770e-01, -2.80997080e-01,\n",
       "        8.04921724e-01,  8.46882448e-01, -4.12504128e-01, -1.69843412e+00,\n",
       "        6.09336476e-01, -2.38553227e+00, -5.02632316e-02,  4.68215626e+00,\n",
       "        1.03912495e+00, -1.99334363e-02,  2.48078851e-01, -1.92625255e+00,\n",
       "       -9.31781102e-01,  1.22691646e-01, -6.37251834e-01,  4.30218384e-01,\n",
       "        5.53421975e-01, -4.78088000e-02,  1.08165438e+00, -3.86882178e-01,\n",
       "        4.73544520e-01, -6.62122165e-01, -2.36307557e-02, -3.14376501e-01,\n",
       "        1.10602848e+00, -1.37465213e-02,  1.72731454e-01, -3.93315313e-01,\n",
       "       -6.96339645e-01,  6.28385164e-02,  2.81294231e+00,  2.92456514e+00,\n",
       "       -8.91847231e-01,  1.05213177e+00, -4.67622886e-04,  5.55110104e-01,\n",
       "       -5.91692171e-01, -7.41849002e-01, -1.38551513e-01,  6.10161038e-01])"
      ]
     },
     "execution_count": 66,
     "metadata": {},
     "output_type": "execute_result"
    }
   ],
   "source": [
    "res"
   ]
  },
  {
   "cell_type": "code",
   "execution_count": 67,
   "metadata": {},
   "outputs": [
    {
     "data": {
      "text/plain": [
       "0.012961387705247542"
      ]
     },
     "execution_count": 67,
     "metadata": {},
     "output_type": "execute_result"
    }
   ],
   "source": [
    "res['fun']"
   ]
  },
  {
   "cell_type": "code",
   "execution_count": 68,
   "metadata": {},
   "outputs": [
    {
     "data": {
      "text/plain": [
       "array([ 1.74213403e+00,  2.96697059e-01, -4.13672770e-01, -2.80997080e-01,\n",
       "        8.04921724e-01,  8.46882448e-01, -4.12504128e-01, -1.69843412e+00,\n",
       "        6.09336476e-01, -2.38553227e+00, -5.02632316e-02,  4.68215626e+00,\n",
       "        1.03912495e+00, -1.99334363e-02,  2.48078851e-01, -1.92625255e+00,\n",
       "       -9.31781102e-01,  1.22691646e-01, -6.37251834e-01,  4.30218384e-01,\n",
       "        5.53421975e-01, -4.78088000e-02,  1.08165438e+00, -3.86882178e-01,\n",
       "        4.73544520e-01, -6.62122165e-01, -2.36307557e-02, -3.14376501e-01,\n",
       "        1.10602848e+00, -1.37465213e-02,  1.72731454e-01, -3.93315313e-01,\n",
       "       -6.96339645e-01,  6.28385164e-02,  2.81294231e+00,  2.92456514e+00,\n",
       "       -8.91847231e-01,  1.05213177e+00, -4.67622886e-04,  5.55110104e-01,\n",
       "       -5.91692171e-01, -7.41849002e-01, -1.38551513e-01,  6.10161038e-01])"
      ]
     },
     "execution_count": 68,
     "metadata": {},
     "output_type": "execute_result"
    }
   ],
   "source": [
    "res['x']"
   ]
  },
  {
   "cell_type": "code",
   "execution_count": 69,
   "metadata": {},
   "outputs": [
    {
     "data": {
      "text/plain": [
       "0.03051845814321291"
      ]
     },
     "execution_count": 69,
     "metadata": {},
     "output_type": "execute_result"
    }
   ],
   "source": [
    "second_norm_jac(res['jac'].T)"
   ]
  },
  {
   "cell_type": "code",
   "execution_count": 70,
   "metadata": {},
   "outputs": [],
   "source": [
    "def reg_training_error_val_test(omega,X,y_true,number_of_samples):\n",
    "    #omega =input_list# np.array(input_list[:-2])\n",
    "    rho=0.00000001\n",
    "    sigma=2\n",
    "    #rho   = input_list[1] \n",
    "    #sigma = input_list[2]\n",
    "    omega=omega.reshape(N,int(len(omega)/N))\n",
    "    Y_pred=predicting(X,omega,sigma)\n",
    "    #print(np.sum((Y_pred-y_true)**2))\n",
    "    #print(number_of_samples)\n",
    "    #print(np.sum((Y_pred-y_true)**2)/(2*number_of_samples))\n",
    "    #print(rho*(second_norm(omega)))\n",
    "    E = (np.sum((Y_pred-y_true)**2)/(2*number_of_samples) + rho*(second_norm(omega)))\n",
    "    #omega=omega.flatten()\n",
    "    return E#,Y_pred"
   ]
  },
  {
   "cell_type": "code",
   "execution_count": 71,
   "metadata": {},
   "outputs": [
    {
     "data": {
      "text/plain": [
       "0.014794505540612488"
      ]
     },
     "execution_count": 71,
     "metadata": {},
     "output_type": "execute_result"
    }
   ],
   "source": [
    "reg_training_error_val_test(res['x'],Xval.T,Yval,Xval.shape[1])"
   ]
  },
  {
   "cell_type": "code",
   "execution_count": 72,
   "metadata": {},
   "outputs": [
    {
     "data": {
      "text/plain": [
       "0.04635946404406659"
      ]
     },
     "execution_count": 72,
     "metadata": {},
     "output_type": "execute_result"
    }
   ],
   "source": [
    "reg_training_error_val_test(res['x'],Xtest.T,Ytest,Xtest.shape[1])"
   ]
  },
  {
   "cell_type": "code",
   "execution_count": 52,
   "metadata": {},
   "outputs": [
    {
     "data": {
      "text/plain": [
       "22.1583722229898"
      ]
     },
     "execution_count": 52,
     "metadata": {},
     "output_type": "execute_result"
    }
   ],
   "source": [
    "reg_training_error_val_test(omega0.flatten(),X,y_true,X.shape[0])"
   ]
  },
  {
   "cell_type": "code",
   "execution_count": null,
   "metadata": {},
   "outputs": [],
   "source": []
  },
  {
   "cell_type": "markdown",
   "metadata": {},
   "source": [
    "# start part 1.1"
   ]
  },
  {
   "cell_type": "code",
   "execution_count": 14,
   "metadata": {},
   "outputs": [],
   "source": [
    "neurons_count=[3,6,7,9,11,20]\n",
    "rho_values=[0.001,0.00001]\n",
    "sigma_vals=[1,1.5]"
   ]
  },
  {
   "cell_type": "code",
   "execution_count": 15,
   "metadata": {},
   "outputs": [],
   "source": [
    "all_poss_conf=[]\n",
    "for i in neurons_count:\n",
    "    for r in rho_values:\n",
    "        for s in sigma_vals:\n",
    "            all_poss_conf.append((i,r,s))"
   ]
  },
  {
   "cell_type": "code",
   "execution_count": 16,
   "metadata": {},
   "outputs": [
    {
     "data": {
      "text/plain": [
       "24"
      ]
     },
     "execution_count": 16,
     "metadata": {},
     "output_type": "execute_result"
    }
   ],
   "source": [
    "len(all_poss_conf)"
   ]
  },
  {
   "cell_type": "code",
   "execution_count": 12,
   "metadata": {},
   "outputs": [],
   "source": [
    "def reg_training_error_grid(omega):\n",
    "    omega=omega.reshape(N,int(len(omega)/N))\n",
    "    Y_pred=predicting(X,omega,sigma)\n",
    "    E = (np.sum((Y_pred-y_true)**2)/(2*X.shape[0]) + rho*(second_norm(omega)))\n",
    "    return E"
   ]
  },
  {
   "cell_type": "code",
   "execution_count": 18,
   "metadata": {},
   "outputs": [],
   "source": [
    "def minimizing(omega_init):\n",
    "    #Neuron_num, rho, sigma = conf\n",
    "    output = minimize(reg_training_error_grid, omega_init)\n",
    "    return output['fun'], output['jac'], output['x']"
   ]
  },
  {
   "cell_type": "code",
   "execution_count": 19,
   "metadata": {},
   "outputs": [],
   "source": [
    "def reg_error_val_test(omega,X,y_true,number_of_samples, rho, sigma):\n",
    "    \n",
    "    omega=omega.reshape(N,int(len(omega)/N))\n",
    "    Y_pred=predicting(X,omega,sigma)\n",
    "    #print(np.sum((Y_pred-y_true)**2))\n",
    "    #print(number_of_samples)\n",
    "    #print(np.sum((Y_pred-y_true)**2)/(2*number_of_samples))\n",
    "    #print(rho*(second_norm(omega)))\n",
    "    E = (np.sum((Y_pred-y_true)**2)/(number_of_samples)) #+ rho*(second_norm(omega)))\n",
    "    return E#,Y_pred"
   ]
  },
  {
   "cell_type": "code",
   "execution_count": 20,
   "metadata": {},
   "outputs": [
    {
     "name": "stdout",
     "output_type": "stream",
     "text": [
      "(3, 0.001, 1)\n",
      "(3, 0.001, 1.5)\n",
      "(3, 1e-05, 1)\n",
      "(3, 1e-05, 1.5)\n",
      "(6, 0.001, 1)\n",
      "(6, 0.001, 1.5)\n",
      "(6, 1e-05, 1)\n",
      "(6, 1e-05, 1.5)\n",
      "(7, 0.001, 1)\n",
      "(7, 0.001, 1.5)\n",
      "(7, 1e-05, 1)\n",
      "(7, 1e-05, 1.5)\n",
      "(9, 0.001, 1)\n",
      "(9, 0.001, 1.5)\n",
      "(9, 1e-05, 1)\n",
      "(9, 1e-05, 1.5)\n",
      "(11, 0.001, 1)\n",
      "(11, 0.001, 1.5)\n",
      "(11, 1e-05, 1)\n",
      "(11, 1e-05, 1.5)\n",
      "(20, 0.001, 1)\n",
      "(20, 0.001, 1.5)\n",
      "(20, 1e-05, 1)\n",
      "(20, 1e-05, 1.5)\n"
     ]
    },
    {
     "ename": "KeyboardInterrupt",
     "evalue": "",
     "output_type": "error",
     "traceback": [
      "\u001b[0;31m---------------------------------------------------------------------------\u001b[0m",
      "\u001b[0;31mKeyboardInterrupt\u001b[0m                         Traceback (most recent call last)",
      "\u001b[0;32m<ipython-input-20-e403424d7c67>\u001b[0m in \u001b[0;36m<module>\u001b[0;34m\u001b[0m\n\u001b[1;32m     25\u001b[0m             \u001b[0mV\u001b[0m \u001b[0;34m=\u001b[0m \u001b[0mparams\u001b[0m\u001b[0;34m[\u001b[0m\u001b[0;34m'V'\u001b[0m\u001b[0;34m]\u001b[0m\u001b[0;34m\u001b[0m\u001b[0;34m\u001b[0m\u001b[0m\n\u001b[1;32m     26\u001b[0m             \u001b[0momega0\u001b[0m\u001b[0;34m=\u001b[0m\u001b[0mnp\u001b[0m\u001b[0;34m.\u001b[0m\u001b[0mappend\u001b[0m\u001b[0;34m(\u001b[0m\u001b[0mnp\u001b[0m\u001b[0;34m.\u001b[0m\u001b[0mappend\u001b[0m\u001b[0;34m(\u001b[0m\u001b[0mV\u001b[0m\u001b[0;34m.\u001b[0m\u001b[0mT\u001b[0m\u001b[0;34m,\u001b[0m\u001b[0mW1\u001b[0m\u001b[0;34m,\u001b[0m \u001b[0maxis\u001b[0m\u001b[0;34m=\u001b[0m\u001b[0;36m1\u001b[0m\u001b[0;34m)\u001b[0m\u001b[0;34m,\u001b[0m \u001b[0mb1\u001b[0m\u001b[0;34m,\u001b[0m \u001b[0maxis\u001b[0m\u001b[0;34m=\u001b[0m\u001b[0;36m1\u001b[0m\u001b[0;34m)\u001b[0m\u001b[0;34m\u001b[0m\u001b[0;34m\u001b[0m\u001b[0m\n\u001b[0;32m---> 27\u001b[0;31m             \u001b[0merr\u001b[0m\u001b[0;34m,\u001b[0m \u001b[0mjac\u001b[0m\u001b[0;34m,\u001b[0m \u001b[0momega_out\u001b[0m \u001b[0;34m=\u001b[0m \u001b[0mminimizing\u001b[0m\u001b[0;34m(\u001b[0m\u001b[0momega0\u001b[0m\u001b[0;34m)\u001b[0m\u001b[0;34m\u001b[0m\u001b[0;34m\u001b[0m\u001b[0m\n\u001b[0m\u001b[1;32m     28\u001b[0m             \u001b[0mfunn\u001b[0m\u001b[0;34m.\u001b[0m\u001b[0mappend\u001b[0m\u001b[0;34m(\u001b[0m\u001b[0merr\u001b[0m\u001b[0;34m)\u001b[0m\u001b[0;34m\u001b[0m\u001b[0;34m\u001b[0m\u001b[0m\n\u001b[1;32m     29\u001b[0m             \u001b[0merr_k\u001b[0m\u001b[0;34m.\u001b[0m\u001b[0mappend\u001b[0m\u001b[0;34m(\u001b[0m\u001b[0mreg_error_val_test\u001b[0m\u001b[0;34m(\u001b[0m\u001b[0momega_out\u001b[0m\u001b[0;34m,\u001b[0m\u001b[0mX\u001b[0m\u001b[0;34m,\u001b[0m\u001b[0my_true\u001b[0m\u001b[0;34m,\u001b[0m\u001b[0mX\u001b[0m\u001b[0;34m.\u001b[0m\u001b[0mshape\u001b[0m\u001b[0;34m[\u001b[0m\u001b[0;36m0\u001b[0m\u001b[0;34m]\u001b[0m\u001b[0;34m,\u001b[0m \u001b[0mrho\u001b[0m\u001b[0;34m,\u001b[0m \u001b[0msigma\u001b[0m\u001b[0;34m)\u001b[0m\u001b[0;34m)\u001b[0m\u001b[0;34m\u001b[0m\u001b[0;34m\u001b[0m\u001b[0m\n",
      "\u001b[0;32m<ipython-input-18-485b370712c6>\u001b[0m in \u001b[0;36mminimizing\u001b[0;34m(omega_init)\u001b[0m\n\u001b[1;32m      1\u001b[0m \u001b[0;32mdef\u001b[0m \u001b[0mminimizing\u001b[0m\u001b[0;34m(\u001b[0m\u001b[0momega_init\u001b[0m\u001b[0;34m)\u001b[0m\u001b[0;34m:\u001b[0m\u001b[0;34m\u001b[0m\u001b[0;34m\u001b[0m\u001b[0m\n\u001b[1;32m      2\u001b[0m     \u001b[0;31m#Neuron_num, rho, sigma = conf\u001b[0m\u001b[0;34m\u001b[0m\u001b[0;34m\u001b[0m\u001b[0;34m\u001b[0m\u001b[0m\n\u001b[0;32m----> 3\u001b[0;31m     \u001b[0moutput\u001b[0m \u001b[0;34m=\u001b[0m \u001b[0mminimize\u001b[0m\u001b[0;34m(\u001b[0m\u001b[0mreg_training_error_grid\u001b[0m\u001b[0;34m,\u001b[0m \u001b[0momega_init\u001b[0m\u001b[0;34m)\u001b[0m\u001b[0;34m\u001b[0m\u001b[0;34m\u001b[0m\u001b[0m\n\u001b[0m\u001b[1;32m      4\u001b[0m     \u001b[0;32mreturn\u001b[0m \u001b[0moutput\u001b[0m\u001b[0;34m[\u001b[0m\u001b[0;34m'fun'\u001b[0m\u001b[0;34m]\u001b[0m\u001b[0;34m,\u001b[0m \u001b[0moutput\u001b[0m\u001b[0;34m[\u001b[0m\u001b[0;34m'jac'\u001b[0m\u001b[0;34m]\u001b[0m\u001b[0;34m,\u001b[0m \u001b[0moutput\u001b[0m\u001b[0;34m[\u001b[0m\u001b[0;34m'x'\u001b[0m\u001b[0;34m]\u001b[0m\u001b[0;34m\u001b[0m\u001b[0;34m\u001b[0m\u001b[0m\n",
      "\u001b[0;32m~/nnenv/lib/python3.6/site-packages/scipy/optimize/_minimize.py\u001b[0m in \u001b[0;36mminimize\u001b[0;34m(fun, x0, args, method, jac, hess, hessp, bounds, constraints, tol, callback, options)\u001b[0m\n\u001b[1;32m    592\u001b[0m         \u001b[0;32mreturn\u001b[0m \u001b[0m_minimize_cg\u001b[0m\u001b[0;34m(\u001b[0m\u001b[0mfun\u001b[0m\u001b[0;34m,\u001b[0m \u001b[0mx0\u001b[0m\u001b[0;34m,\u001b[0m \u001b[0margs\u001b[0m\u001b[0;34m,\u001b[0m \u001b[0mjac\u001b[0m\u001b[0;34m,\u001b[0m \u001b[0mcallback\u001b[0m\u001b[0;34m,\u001b[0m \u001b[0;34m**\u001b[0m\u001b[0moptions\u001b[0m\u001b[0;34m)\u001b[0m\u001b[0;34m\u001b[0m\u001b[0;34m\u001b[0m\u001b[0m\n\u001b[1;32m    593\u001b[0m     \u001b[0;32melif\u001b[0m \u001b[0mmeth\u001b[0m \u001b[0;34m==\u001b[0m \u001b[0;34m'bfgs'\u001b[0m\u001b[0;34m:\u001b[0m\u001b[0;34m\u001b[0m\u001b[0;34m\u001b[0m\u001b[0m\n\u001b[0;32m--> 594\u001b[0;31m         \u001b[0;32mreturn\u001b[0m \u001b[0m_minimize_bfgs\u001b[0m\u001b[0;34m(\u001b[0m\u001b[0mfun\u001b[0m\u001b[0;34m,\u001b[0m \u001b[0mx0\u001b[0m\u001b[0;34m,\u001b[0m \u001b[0margs\u001b[0m\u001b[0;34m,\u001b[0m \u001b[0mjac\u001b[0m\u001b[0;34m,\u001b[0m \u001b[0mcallback\u001b[0m\u001b[0;34m,\u001b[0m \u001b[0;34m**\u001b[0m\u001b[0moptions\u001b[0m\u001b[0;34m)\u001b[0m\u001b[0;34m\u001b[0m\u001b[0;34m\u001b[0m\u001b[0m\n\u001b[0m\u001b[1;32m    595\u001b[0m     \u001b[0;32melif\u001b[0m \u001b[0mmeth\u001b[0m \u001b[0;34m==\u001b[0m \u001b[0;34m'newton-cg'\u001b[0m\u001b[0;34m:\u001b[0m\u001b[0;34m\u001b[0m\u001b[0;34m\u001b[0m\u001b[0m\n\u001b[1;32m    596\u001b[0m         return _minimize_newtoncg(fun, x0, args, jac, hess, hessp, callback,\n",
      "\u001b[0;32m~/nnenv/lib/python3.6/site-packages/scipy/optimize/optimize.py\u001b[0m in \u001b[0;36m_minimize_bfgs\u001b[0;34m(fun, x0, args, jac, callback, gtol, norm, eps, maxiter, disp, return_all, **unknown_options)\u001b[0m\n\u001b[1;32m   1014\u001b[0m             \u001b[0malpha_k\u001b[0m\u001b[0;34m,\u001b[0m \u001b[0mfc\u001b[0m\u001b[0;34m,\u001b[0m \u001b[0mgc\u001b[0m\u001b[0;34m,\u001b[0m \u001b[0mold_fval\u001b[0m\u001b[0;34m,\u001b[0m \u001b[0mold_old_fval\u001b[0m\u001b[0;34m,\u001b[0m \u001b[0mgfkp1\u001b[0m \u001b[0;34m=\u001b[0m\u001b[0;31m \u001b[0m\u001b[0;31m\\\u001b[0m\u001b[0;34m\u001b[0m\u001b[0;34m\u001b[0m\u001b[0m\n\u001b[1;32m   1015\u001b[0m                      _line_search_wolfe12(f, myfprime, xk, pk, gfk,\n\u001b[0;32m-> 1016\u001b[0;31m                                           old_fval, old_old_fval, amin=1e-100, amax=1e100)\n\u001b[0m\u001b[1;32m   1017\u001b[0m         \u001b[0;32mexcept\u001b[0m \u001b[0m_LineSearchError\u001b[0m\u001b[0;34m:\u001b[0m\u001b[0;34m\u001b[0m\u001b[0;34m\u001b[0m\u001b[0m\n\u001b[1;32m   1018\u001b[0m             \u001b[0;31m# Line search failed to find a better solution.\u001b[0m\u001b[0;34m\u001b[0m\u001b[0;34m\u001b[0m\u001b[0;34m\u001b[0m\u001b[0m\n",
      "\u001b[0;32m~/nnenv/lib/python3.6/site-packages/scipy/optimize/optimize.py\u001b[0m in \u001b[0;36m_line_search_wolfe12\u001b[0;34m(f, fprime, xk, pk, gfk, old_fval, old_old_fval, **kwargs)\u001b[0m\n\u001b[1;32m    834\u001b[0m     ret = line_search_wolfe1(f, fprime, xk, pk, gfk,\n\u001b[1;32m    835\u001b[0m                              \u001b[0mold_fval\u001b[0m\u001b[0;34m,\u001b[0m \u001b[0mold_old_fval\u001b[0m\u001b[0;34m,\u001b[0m\u001b[0;34m\u001b[0m\u001b[0;34m\u001b[0m\u001b[0m\n\u001b[0;32m--> 836\u001b[0;31m                              **kwargs)\n\u001b[0m\u001b[1;32m    837\u001b[0m \u001b[0;34m\u001b[0m\u001b[0m\n\u001b[1;32m    838\u001b[0m     \u001b[0;32mif\u001b[0m \u001b[0mret\u001b[0m\u001b[0;34m[\u001b[0m\u001b[0;36m0\u001b[0m\u001b[0;34m]\u001b[0m \u001b[0;32mis\u001b[0m \u001b[0;32mnot\u001b[0m \u001b[0;32mNone\u001b[0m \u001b[0;32mand\u001b[0m \u001b[0mextra_condition\u001b[0m \u001b[0;32mis\u001b[0m \u001b[0;32mnot\u001b[0m \u001b[0;32mNone\u001b[0m\u001b[0;34m:\u001b[0m\u001b[0;34m\u001b[0m\u001b[0;34m\u001b[0m\u001b[0m\n",
      "\u001b[0;32m~/nnenv/lib/python3.6/site-packages/scipy/optimize/linesearch.py\u001b[0m in \u001b[0;36mline_search_wolfe1\u001b[0;34m(f, fprime, xk, pk, gfk, old_fval, old_old_fval, args, c1, c2, amax, amin, xtol)\u001b[0m\n\u001b[1;32m     99\u001b[0m     stp, fval, old_fval = scalar_search_wolfe1(\n\u001b[1;32m    100\u001b[0m             \u001b[0mphi\u001b[0m\u001b[0;34m,\u001b[0m \u001b[0mderphi\u001b[0m\u001b[0;34m,\u001b[0m \u001b[0mold_fval\u001b[0m\u001b[0;34m,\u001b[0m \u001b[0mold_old_fval\u001b[0m\u001b[0;34m,\u001b[0m \u001b[0mderphi0\u001b[0m\u001b[0;34m,\u001b[0m\u001b[0;34m\u001b[0m\u001b[0;34m\u001b[0m\u001b[0m\n\u001b[0;32m--> 101\u001b[0;31m             c1=c1, c2=c2, amax=amax, amin=amin, xtol=xtol)\n\u001b[0m\u001b[1;32m    102\u001b[0m \u001b[0;34m\u001b[0m\u001b[0m\n\u001b[1;32m    103\u001b[0m     \u001b[0;32mreturn\u001b[0m \u001b[0mstp\u001b[0m\u001b[0;34m,\u001b[0m \u001b[0mfc\u001b[0m\u001b[0;34m[\u001b[0m\u001b[0;36m0\u001b[0m\u001b[0;34m]\u001b[0m\u001b[0;34m,\u001b[0m \u001b[0mgc\u001b[0m\u001b[0;34m[\u001b[0m\u001b[0;36m0\u001b[0m\u001b[0;34m]\u001b[0m\u001b[0;34m,\u001b[0m \u001b[0mfval\u001b[0m\u001b[0;34m,\u001b[0m \u001b[0mold_fval\u001b[0m\u001b[0;34m,\u001b[0m \u001b[0mgval\u001b[0m\u001b[0;34m[\u001b[0m\u001b[0;36m0\u001b[0m\u001b[0;34m]\u001b[0m\u001b[0;34m\u001b[0m\u001b[0;34m\u001b[0m\u001b[0m\n",
      "\u001b[0;32m~/nnenv/lib/python3.6/site-packages/scipy/optimize/linesearch.py\u001b[0m in \u001b[0;36mscalar_search_wolfe1\u001b[0;34m(phi, derphi, phi0, old_phi0, derphi0, c1, c2, amax, amin, xtol)\u001b[0m\n\u001b[1;32m    174\u001b[0m             \u001b[0malpha1\u001b[0m \u001b[0;34m=\u001b[0m \u001b[0mstp\u001b[0m\u001b[0;34m\u001b[0m\u001b[0;34m\u001b[0m\u001b[0m\n\u001b[1;32m    175\u001b[0m             \u001b[0mphi1\u001b[0m \u001b[0;34m=\u001b[0m \u001b[0mphi\u001b[0m\u001b[0;34m(\u001b[0m\u001b[0mstp\u001b[0m\u001b[0;34m)\u001b[0m\u001b[0;34m\u001b[0m\u001b[0;34m\u001b[0m\u001b[0m\n\u001b[0;32m--> 176\u001b[0;31m             \u001b[0mderphi1\u001b[0m \u001b[0;34m=\u001b[0m \u001b[0mderphi\u001b[0m\u001b[0;34m(\u001b[0m\u001b[0mstp\u001b[0m\u001b[0;34m)\u001b[0m\u001b[0;34m\u001b[0m\u001b[0;34m\u001b[0m\u001b[0m\n\u001b[0m\u001b[1;32m    177\u001b[0m         \u001b[0;32melse\u001b[0m\u001b[0;34m:\u001b[0m\u001b[0;34m\u001b[0m\u001b[0;34m\u001b[0m\u001b[0m\n\u001b[1;32m    178\u001b[0m             \u001b[0;32mbreak\u001b[0m\u001b[0;34m\u001b[0m\u001b[0;34m\u001b[0m\u001b[0m\n",
      "\u001b[0;32m~/nnenv/lib/python3.6/site-packages/scipy/optimize/linesearch.py\u001b[0m in \u001b[0;36mderphi\u001b[0;34m(s)\u001b[0m\n\u001b[1;32m     88\u001b[0m \u001b[0;34m\u001b[0m\u001b[0m\n\u001b[1;32m     89\u001b[0m     \u001b[0;32mdef\u001b[0m \u001b[0mderphi\u001b[0m\u001b[0;34m(\u001b[0m\u001b[0ms\u001b[0m\u001b[0;34m)\u001b[0m\u001b[0;34m:\u001b[0m\u001b[0;34m\u001b[0m\u001b[0;34m\u001b[0m\u001b[0m\n\u001b[0;32m---> 90\u001b[0;31m         \u001b[0mgval\u001b[0m\u001b[0;34m[\u001b[0m\u001b[0;36m0\u001b[0m\u001b[0;34m]\u001b[0m \u001b[0;34m=\u001b[0m \u001b[0mfprime\u001b[0m\u001b[0;34m(\u001b[0m\u001b[0mxk\u001b[0m \u001b[0;34m+\u001b[0m \u001b[0ms\u001b[0m\u001b[0;34m*\u001b[0m\u001b[0mpk\u001b[0m\u001b[0;34m,\u001b[0m \u001b[0;34m*\u001b[0m\u001b[0mnewargs\u001b[0m\u001b[0;34m)\u001b[0m\u001b[0;34m\u001b[0m\u001b[0;34m\u001b[0m\u001b[0m\n\u001b[0m\u001b[1;32m     91\u001b[0m         \u001b[0;32mif\u001b[0m \u001b[0mgradient\u001b[0m\u001b[0;34m:\u001b[0m\u001b[0;34m\u001b[0m\u001b[0;34m\u001b[0m\u001b[0m\n\u001b[1;32m     92\u001b[0m             \u001b[0mgc\u001b[0m\u001b[0;34m[\u001b[0m\u001b[0;36m0\u001b[0m\u001b[0;34m]\u001b[0m \u001b[0;34m+=\u001b[0m \u001b[0;36m1\u001b[0m\u001b[0;34m\u001b[0m\u001b[0;34m\u001b[0m\u001b[0m\n",
      "\u001b[0;32m~/nnenv/lib/python3.6/site-packages/scipy/optimize/optimize.py\u001b[0m in \u001b[0;36mfunction_wrapper\u001b[0;34m(*wrapper_args)\u001b[0m\n\u001b[1;32m    324\u001b[0m     \u001b[0;32mdef\u001b[0m \u001b[0mfunction_wrapper\u001b[0m\u001b[0;34m(\u001b[0m\u001b[0;34m*\u001b[0m\u001b[0mwrapper_args\u001b[0m\u001b[0;34m)\u001b[0m\u001b[0;34m:\u001b[0m\u001b[0;34m\u001b[0m\u001b[0;34m\u001b[0m\u001b[0m\n\u001b[1;32m    325\u001b[0m         \u001b[0mncalls\u001b[0m\u001b[0;34m[\u001b[0m\u001b[0;36m0\u001b[0m\u001b[0;34m]\u001b[0m \u001b[0;34m+=\u001b[0m \u001b[0;36m1\u001b[0m\u001b[0;34m\u001b[0m\u001b[0;34m\u001b[0m\u001b[0m\n\u001b[0;32m--> 326\u001b[0;31m         \u001b[0;32mreturn\u001b[0m \u001b[0mfunction\u001b[0m\u001b[0;34m(\u001b[0m\u001b[0;34m*\u001b[0m\u001b[0;34m(\u001b[0m\u001b[0mwrapper_args\u001b[0m \u001b[0;34m+\u001b[0m \u001b[0margs\u001b[0m\u001b[0;34m)\u001b[0m\u001b[0;34m)\u001b[0m\u001b[0;34m\u001b[0m\u001b[0;34m\u001b[0m\u001b[0m\n\u001b[0m\u001b[1;32m    327\u001b[0m \u001b[0;34m\u001b[0m\u001b[0m\n\u001b[1;32m    328\u001b[0m     \u001b[0;32mreturn\u001b[0m \u001b[0mncalls\u001b[0m\u001b[0;34m,\u001b[0m \u001b[0mfunction_wrapper\u001b[0m\u001b[0;34m\u001b[0m\u001b[0;34m\u001b[0m\u001b[0m\n",
      "\u001b[0;32m~/nnenv/lib/python3.6/site-packages/scipy/optimize/optimize.py\u001b[0m in \u001b[0;36mapprox_fprime\u001b[0;34m(xk, f, epsilon, *args)\u001b[0m\n\u001b[1;32m    754\u001b[0m \u001b[0;34m\u001b[0m\u001b[0m\n\u001b[1;32m    755\u001b[0m     \"\"\"\n\u001b[0;32m--> 756\u001b[0;31m     \u001b[0;32mreturn\u001b[0m \u001b[0m_approx_fprime_helper\u001b[0m\u001b[0;34m(\u001b[0m\u001b[0mxk\u001b[0m\u001b[0;34m,\u001b[0m \u001b[0mf\u001b[0m\u001b[0;34m,\u001b[0m \u001b[0mepsilon\u001b[0m\u001b[0;34m,\u001b[0m \u001b[0margs\u001b[0m\u001b[0;34m=\u001b[0m\u001b[0margs\u001b[0m\u001b[0;34m)\u001b[0m\u001b[0;34m\u001b[0m\u001b[0;34m\u001b[0m\u001b[0m\n\u001b[0m\u001b[1;32m    757\u001b[0m \u001b[0;34m\u001b[0m\u001b[0m\n\u001b[1;32m    758\u001b[0m \u001b[0;34m\u001b[0m\u001b[0m\n",
      "\u001b[0;32m~/nnenv/lib/python3.6/site-packages/scipy/optimize/optimize.py\u001b[0m in \u001b[0;36m_approx_fprime_helper\u001b[0;34m(xk, f, epsilon, args, f0)\u001b[0m\n\u001b[1;32m    694\u001b[0m         \u001b[0mei\u001b[0m\u001b[0;34m[\u001b[0m\u001b[0mk\u001b[0m\u001b[0;34m]\u001b[0m \u001b[0;34m=\u001b[0m \u001b[0;36m1.0\u001b[0m\u001b[0;34m\u001b[0m\u001b[0;34m\u001b[0m\u001b[0m\n\u001b[1;32m    695\u001b[0m         \u001b[0md\u001b[0m \u001b[0;34m=\u001b[0m \u001b[0mepsilon\u001b[0m \u001b[0;34m*\u001b[0m \u001b[0mei\u001b[0m\u001b[0;34m\u001b[0m\u001b[0;34m\u001b[0m\u001b[0m\n\u001b[0;32m--> 696\u001b[0;31m         \u001b[0mgrad\u001b[0m\u001b[0;34m[\u001b[0m\u001b[0mk\u001b[0m\u001b[0;34m]\u001b[0m \u001b[0;34m=\u001b[0m \u001b[0;34m(\u001b[0m\u001b[0mf\u001b[0m\u001b[0;34m(\u001b[0m\u001b[0;34m*\u001b[0m\u001b[0;34m(\u001b[0m\u001b[0;34m(\u001b[0m\u001b[0mxk\u001b[0m \u001b[0;34m+\u001b[0m \u001b[0md\u001b[0m\u001b[0;34m,\u001b[0m\u001b[0;34m)\u001b[0m \u001b[0;34m+\u001b[0m \u001b[0margs\u001b[0m\u001b[0;34m)\u001b[0m\u001b[0;34m)\u001b[0m \u001b[0;34m-\u001b[0m \u001b[0mf0\u001b[0m\u001b[0;34m)\u001b[0m \u001b[0;34m/\u001b[0m \u001b[0md\u001b[0m\u001b[0;34m[\u001b[0m\u001b[0mk\u001b[0m\u001b[0;34m]\u001b[0m\u001b[0;34m\u001b[0m\u001b[0;34m\u001b[0m\u001b[0m\n\u001b[0m\u001b[1;32m    697\u001b[0m         \u001b[0mei\u001b[0m\u001b[0;34m[\u001b[0m\u001b[0mk\u001b[0m\u001b[0;34m]\u001b[0m \u001b[0;34m=\u001b[0m \u001b[0;36m0.0\u001b[0m\u001b[0;34m\u001b[0m\u001b[0;34m\u001b[0m\u001b[0m\n\u001b[1;32m    698\u001b[0m     \u001b[0;32mreturn\u001b[0m \u001b[0mgrad\u001b[0m\u001b[0;34m\u001b[0m\u001b[0;34m\u001b[0m\u001b[0m\n",
      "\u001b[0;32m~/nnenv/lib/python3.6/site-packages/scipy/optimize/optimize.py\u001b[0m in \u001b[0;36mfunction_wrapper\u001b[0;34m(*wrapper_args)\u001b[0m\n\u001b[1;32m    324\u001b[0m     \u001b[0;32mdef\u001b[0m \u001b[0mfunction_wrapper\u001b[0m\u001b[0;34m(\u001b[0m\u001b[0;34m*\u001b[0m\u001b[0mwrapper_args\u001b[0m\u001b[0;34m)\u001b[0m\u001b[0;34m:\u001b[0m\u001b[0;34m\u001b[0m\u001b[0;34m\u001b[0m\u001b[0m\n\u001b[1;32m    325\u001b[0m         \u001b[0mncalls\u001b[0m\u001b[0;34m[\u001b[0m\u001b[0;36m0\u001b[0m\u001b[0;34m]\u001b[0m \u001b[0;34m+=\u001b[0m \u001b[0;36m1\u001b[0m\u001b[0;34m\u001b[0m\u001b[0;34m\u001b[0m\u001b[0m\n\u001b[0;32m--> 326\u001b[0;31m         \u001b[0;32mreturn\u001b[0m \u001b[0mfunction\u001b[0m\u001b[0;34m(\u001b[0m\u001b[0;34m*\u001b[0m\u001b[0;34m(\u001b[0m\u001b[0mwrapper_args\u001b[0m \u001b[0;34m+\u001b[0m \u001b[0margs\u001b[0m\u001b[0;34m)\u001b[0m\u001b[0;34m)\u001b[0m\u001b[0;34m\u001b[0m\u001b[0;34m\u001b[0m\u001b[0m\n\u001b[0m\u001b[1;32m    327\u001b[0m \u001b[0;34m\u001b[0m\u001b[0m\n\u001b[1;32m    328\u001b[0m     \u001b[0;32mreturn\u001b[0m \u001b[0mncalls\u001b[0m\u001b[0;34m,\u001b[0m \u001b[0mfunction_wrapper\u001b[0m\u001b[0;34m\u001b[0m\u001b[0;34m\u001b[0m\u001b[0m\n",
      "\u001b[0;32m<ipython-input-17-160b9cbf9c57>\u001b[0m in \u001b[0;36mreg_training_error_grid\u001b[0;34m(omega)\u001b[0m\n\u001b[1;32m      1\u001b[0m \u001b[0;32mdef\u001b[0m \u001b[0mreg_training_error_grid\u001b[0m\u001b[0;34m(\u001b[0m\u001b[0momega\u001b[0m\u001b[0;34m)\u001b[0m\u001b[0;34m:\u001b[0m\u001b[0;34m\u001b[0m\u001b[0;34m\u001b[0m\u001b[0m\n\u001b[1;32m      2\u001b[0m     \u001b[0momega\u001b[0m\u001b[0;34m=\u001b[0m\u001b[0momega\u001b[0m\u001b[0;34m.\u001b[0m\u001b[0mreshape\u001b[0m\u001b[0;34m(\u001b[0m\u001b[0mN\u001b[0m\u001b[0;34m,\u001b[0m\u001b[0mint\u001b[0m\u001b[0;34m(\u001b[0m\u001b[0mlen\u001b[0m\u001b[0;34m(\u001b[0m\u001b[0momega\u001b[0m\u001b[0;34m)\u001b[0m\u001b[0;34m/\u001b[0m\u001b[0mN\u001b[0m\u001b[0;34m)\u001b[0m\u001b[0;34m)\u001b[0m\u001b[0;34m\u001b[0m\u001b[0;34m\u001b[0m\u001b[0m\n\u001b[0;32m----> 3\u001b[0;31m     \u001b[0mY_pred\u001b[0m\u001b[0;34m=\u001b[0m\u001b[0mpredicting\u001b[0m\u001b[0;34m(\u001b[0m\u001b[0mX\u001b[0m\u001b[0;34m,\u001b[0m\u001b[0momega\u001b[0m\u001b[0;34m,\u001b[0m\u001b[0msigma\u001b[0m\u001b[0;34m)\u001b[0m\u001b[0;34m\u001b[0m\u001b[0;34m\u001b[0m\u001b[0m\n\u001b[0m\u001b[1;32m      4\u001b[0m     \u001b[0mE\u001b[0m \u001b[0;34m=\u001b[0m \u001b[0;34m(\u001b[0m\u001b[0mnp\u001b[0m\u001b[0;34m.\u001b[0m\u001b[0msum\u001b[0m\u001b[0;34m(\u001b[0m\u001b[0;34m(\u001b[0m\u001b[0mY_pred\u001b[0m\u001b[0;34m-\u001b[0m\u001b[0my_true\u001b[0m\u001b[0;34m)\u001b[0m\u001b[0;34m**\u001b[0m\u001b[0;36m2\u001b[0m\u001b[0;34m)\u001b[0m\u001b[0;34m/\u001b[0m\u001b[0;34m(\u001b[0m\u001b[0;36m2\u001b[0m\u001b[0;34m*\u001b[0m\u001b[0mX\u001b[0m\u001b[0;34m.\u001b[0m\u001b[0mshape\u001b[0m\u001b[0;34m[\u001b[0m\u001b[0;36m0\u001b[0m\u001b[0;34m]\u001b[0m\u001b[0;34m)\u001b[0m \u001b[0;34m+\u001b[0m \u001b[0mrho\u001b[0m\u001b[0;34m*\u001b[0m\u001b[0;34m(\u001b[0m\u001b[0msecond_norm\u001b[0m\u001b[0;34m(\u001b[0m\u001b[0momega\u001b[0m\u001b[0;34m)\u001b[0m\u001b[0;34m)\u001b[0m\u001b[0;34m)\u001b[0m\u001b[0;34m\u001b[0m\u001b[0;34m\u001b[0m\u001b[0m\n\u001b[1;32m      5\u001b[0m     \u001b[0;32mreturn\u001b[0m \u001b[0mE\u001b[0m\u001b[0;34m\u001b[0m\u001b[0;34m\u001b[0m\u001b[0m\n",
      "\u001b[0;32m<ipython-input-12-b163bd5f39a0>\u001b[0m in \u001b[0;36mpredicting\u001b[0;34m(z0, omega, sigma)\u001b[0m\n\u001b[1;32m      3\u001b[0m     \u001b[0mV\u001b[0m \u001b[0;34m=\u001b[0m \u001b[0momega\u001b[0m\u001b[0;34m[\u001b[0m\u001b[0;34m:\u001b[0m\u001b[0;34m,\u001b[0m\u001b[0;36m0\u001b[0m\u001b[0;34m:\u001b[0m\u001b[0;36m1\u001b[0m\u001b[0;34m]\u001b[0m\u001b[0;34m\u001b[0m\u001b[0;34m\u001b[0m\u001b[0m\n\u001b[1;32m      4\u001b[0m     \u001b[0mb\u001b[0m \u001b[0;34m=\u001b[0m \u001b[0momega\u001b[0m\u001b[0;34m[\u001b[0m\u001b[0;34m:\u001b[0m\u001b[0;34m,\u001b[0m\u001b[0;36m3\u001b[0m\u001b[0;34m:\u001b[0m\u001b[0;36m4\u001b[0m\u001b[0;34m]\u001b[0m\u001b[0;34m\u001b[0m\u001b[0;34m\u001b[0m\u001b[0m\n\u001b[0;32m----> 5\u001b[0;31m     \u001b[0mY_predicted\u001b[0m\u001b[0;34m=\u001b[0m\u001b[0;34m[\u001b[0m\u001b[0mpredicting_1_ouput\u001b[0m\u001b[0;34m(\u001b[0m\u001b[0mz0\u001b[0m\u001b[0;34m[\u001b[0m\u001b[0mi\u001b[0m\u001b[0;34m]\u001b[0m\u001b[0;34m,\u001b[0m\u001b[0mb\u001b[0m\u001b[0;34m,\u001b[0m\u001b[0mW\u001b[0m\u001b[0;34m,\u001b[0m\u001b[0mV\u001b[0m\u001b[0;34m,\u001b[0m\u001b[0msigma\u001b[0m\u001b[0;34m)\u001b[0m \u001b[0;32mfor\u001b[0m \u001b[0mi\u001b[0m \u001b[0;32min\u001b[0m \u001b[0mrange\u001b[0m\u001b[0;34m(\u001b[0m\u001b[0;34m(\u001b[0m\u001b[0mz0\u001b[0m\u001b[0;34m.\u001b[0m\u001b[0mT\u001b[0m\u001b[0;34m)\u001b[0m\u001b[0;34m.\u001b[0m\u001b[0mshape\u001b[0m\u001b[0;34m[\u001b[0m\u001b[0;36m1\u001b[0m\u001b[0;34m]\u001b[0m\u001b[0;34m)\u001b[0m\u001b[0;34m]\u001b[0m\u001b[0;31m#(z0.T).shape[1]\u001b[0m\u001b[0;34m\u001b[0m\u001b[0;34m\u001b[0m\u001b[0m\n\u001b[0m\u001b[1;32m      6\u001b[0m     \u001b[0;32mreturn\u001b[0m \u001b[0mnp\u001b[0m\u001b[0;34m.\u001b[0m\u001b[0marray\u001b[0m\u001b[0;34m(\u001b[0m\u001b[0mY_predicted\u001b[0m\u001b[0;34m)\u001b[0m\u001b[0;34m\u001b[0m\u001b[0;34m\u001b[0m\u001b[0m\n",
      "\u001b[0;32m<ipython-input-12-b163bd5f39a0>\u001b[0m in \u001b[0;36m<listcomp>\u001b[0;34m(.0)\u001b[0m\n\u001b[1;32m      3\u001b[0m     \u001b[0mV\u001b[0m \u001b[0;34m=\u001b[0m \u001b[0momega\u001b[0m\u001b[0;34m[\u001b[0m\u001b[0;34m:\u001b[0m\u001b[0;34m,\u001b[0m\u001b[0;36m0\u001b[0m\u001b[0;34m:\u001b[0m\u001b[0;36m1\u001b[0m\u001b[0;34m]\u001b[0m\u001b[0;34m\u001b[0m\u001b[0;34m\u001b[0m\u001b[0m\n\u001b[1;32m      4\u001b[0m     \u001b[0mb\u001b[0m \u001b[0;34m=\u001b[0m \u001b[0momega\u001b[0m\u001b[0;34m[\u001b[0m\u001b[0;34m:\u001b[0m\u001b[0;34m,\u001b[0m\u001b[0;36m3\u001b[0m\u001b[0;34m:\u001b[0m\u001b[0;36m4\u001b[0m\u001b[0;34m]\u001b[0m\u001b[0;34m\u001b[0m\u001b[0;34m\u001b[0m\u001b[0m\n\u001b[0;32m----> 5\u001b[0;31m     \u001b[0mY_predicted\u001b[0m\u001b[0;34m=\u001b[0m\u001b[0;34m[\u001b[0m\u001b[0mpredicting_1_ouput\u001b[0m\u001b[0;34m(\u001b[0m\u001b[0mz0\u001b[0m\u001b[0;34m[\u001b[0m\u001b[0mi\u001b[0m\u001b[0;34m]\u001b[0m\u001b[0;34m,\u001b[0m\u001b[0mb\u001b[0m\u001b[0;34m,\u001b[0m\u001b[0mW\u001b[0m\u001b[0;34m,\u001b[0m\u001b[0mV\u001b[0m\u001b[0;34m,\u001b[0m\u001b[0msigma\u001b[0m\u001b[0;34m)\u001b[0m \u001b[0;32mfor\u001b[0m \u001b[0mi\u001b[0m \u001b[0;32min\u001b[0m \u001b[0mrange\u001b[0m\u001b[0;34m(\u001b[0m\u001b[0;34m(\u001b[0m\u001b[0mz0\u001b[0m\u001b[0;34m.\u001b[0m\u001b[0mT\u001b[0m\u001b[0;34m)\u001b[0m\u001b[0;34m.\u001b[0m\u001b[0mshape\u001b[0m\u001b[0;34m[\u001b[0m\u001b[0;36m1\u001b[0m\u001b[0;34m]\u001b[0m\u001b[0;34m)\u001b[0m\u001b[0;34m]\u001b[0m\u001b[0;31m#(z0.T).shape[1]\u001b[0m\u001b[0;34m\u001b[0m\u001b[0;34m\u001b[0m\u001b[0m\n\u001b[0m\u001b[1;32m      6\u001b[0m     \u001b[0;32mreturn\u001b[0m \u001b[0mnp\u001b[0m\u001b[0;34m.\u001b[0m\u001b[0marray\u001b[0m\u001b[0;34m(\u001b[0m\u001b[0mY_predicted\u001b[0m\u001b[0;34m)\u001b[0m\u001b[0;34m\u001b[0m\u001b[0;34m\u001b[0m\u001b[0m\n",
      "\u001b[0;32m<ipython-input-13-c4c810209cf6>\u001b[0m in \u001b[0;36mpredicting_1_ouput\u001b[0;34m(z0, b, W, V, sigma)\u001b[0m\n\u001b[1;32m      7\u001b[0m     \u001b[0;31m#print(\"z1\")\u001b[0m\u001b[0;34m\u001b[0m\u001b[0;34m\u001b[0m\u001b[0;34m\u001b[0m\u001b[0m\n\u001b[1;32m      8\u001b[0m     \u001b[0;31m#print(np.sum(V*hyp_tan(z1,sigma)))\u001b[0m\u001b[0;34m\u001b[0m\u001b[0;34m\u001b[0m\u001b[0;34m\u001b[0m\u001b[0m\n\u001b[0;32m----> 9\u001b[0;31m     \u001b[0;32mreturn\u001b[0m \u001b[0mnp\u001b[0m\u001b[0;34m.\u001b[0m\u001b[0msum\u001b[0m\u001b[0;34m(\u001b[0m\u001b[0mV\u001b[0m\u001b[0;34m*\u001b[0m\u001b[0mhyp_tan\u001b[0m\u001b[0;34m(\u001b[0m\u001b[0mz1\u001b[0m\u001b[0;34m,\u001b[0m\u001b[0msigma\u001b[0m\u001b[0;34m)\u001b[0m\u001b[0;34m)\u001b[0m\u001b[0;34m\u001b[0m\u001b[0;34m\u001b[0m\u001b[0m\n\u001b[0m",
      "\u001b[0;31mKeyboardInterrupt\u001b[0m: "
     ]
    }
   ],
   "source": [
    "# change X, ytrue, k times\n",
    "start=time.time()\n",
    "K=3\n",
    "a=0\n",
    "conf_res=[]\n",
    "for c in all_poss_conf:\n",
    "    print(c)\n",
    "    funn,err_k,jac_norm,val_err,test_err=[],[],[],[],[]\n",
    "    if a>100:\n",
    "        break\n",
    "    else:\n",
    "        \n",
    "        for k in range(K):\n",
    "\n",
    "            a=a+1\n",
    "            N, rho, sigma = c\n",
    "            X, y_true, Xval,Yval, Xtest, Ytest = get_data()\n",
    "            X=X.T\n",
    "            n = X.shape[1] # Size of the input vector X\n",
    "            n_y = y_true.shape[0] # Size of the input vector Y\n",
    "            p = X.shape[0] # Size of the sample\n",
    "            params = initialize_parameters(n, N, n_y)\n",
    "            W1 = params['W1']\n",
    "            b1 = params['b1']\n",
    "            V = params['V']\n",
    "            omega0=np.append(np.append(V.T,W1, axis=1), b1, axis=1)\n",
    "            err, jac, omega_out = minimizing(omega0)\n",
    "            funn.append(err)\n",
    "            err_k.append(reg_error_val_test(omega_out,X,y_true,X.shape[0], rho, sigma))\n",
    "            jac_norm.append(second_norm_jac(jac.T))\n",
    "            val_err.append(reg_error_val_test(omega_out,Xval.T,Yval,Xval.shape[1], rho, sigma))\n",
    "            X=np.concatenate((X,Xval.T))\n",
    "            y_true=np.concatenate((y_true.T,Yval.T)).T\n",
    "            err, jac, omega_out = minimizing(omega_out)\n",
    "            test_err.append(reg_error_val_test(omega_out,Xtest.T,Ytest,Xtest.shape[1], rho, sigma))\n",
    "        conf_res.append([np.mean(funn),np.mean(err_k),np.mean(jac_norm),np.mean(val_err),np.mean(test_err)])\n",
    "print(time.time()-start)\n",
    "configs=pd.DataFrame(all_poss_conf,columns=['neurons','rho','sigma'])\n",
    "configs[['fun','err_tr','jac_norm','err_val','err_test']]=pd.DataFrame(conf_res)\n",
    "configs.to_csv('res_confs_ALL.csv')"
   ]
  },
  {
   "cell_type": "code",
   "execution_count": 23,
   "metadata": {},
   "outputs": [
    {
     "data": {
      "text/html": [
       "<div>\n",
       "<style scoped>\n",
       "    .dataframe tbody tr th:only-of-type {\n",
       "        vertical-align: middle;\n",
       "    }\n",
       "\n",
       "    .dataframe tbody tr th {\n",
       "        vertical-align: top;\n",
       "    }\n",
       "\n",
       "    .dataframe thead th {\n",
       "        text-align: right;\n",
       "    }\n",
       "</style>\n",
       "<table border=\"1\" class=\"dataframe\">\n",
       "  <thead>\n",
       "    <tr style=\"text-align: right;\">\n",
       "      <th></th>\n",
       "      <th>neurons</th>\n",
       "      <th>rho</th>\n",
       "      <th>sigma</th>\n",
       "      <th>fun</th>\n",
       "      <th>err_tr</th>\n",
       "      <th>jac_norm</th>\n",
       "      <th>err_val</th>\n",
       "      <th>err_test</th>\n",
       "    </tr>\n",
       "  </thead>\n",
       "  <tbody>\n",
       "    <tr>\n",
       "      <td>0</td>\n",
       "      <td>3</td>\n",
       "      <td>0.00100</td>\n",
       "      <td>1.0</td>\n",
       "      <td>0.146204</td>\n",
       "      <td>0.267513</td>\n",
       "      <td>0.000005</td>\n",
       "      <td>0.380936</td>\n",
       "      <td>0.379573</td>\n",
       "    </tr>\n",
       "    <tr>\n",
       "      <td>1</td>\n",
       "      <td>3</td>\n",
       "      <td>0.00100</td>\n",
       "      <td>1.5</td>\n",
       "      <td>0.142374</td>\n",
       "      <td>0.261603</td>\n",
       "      <td>0.000004</td>\n",
       "      <td>0.332050</td>\n",
       "      <td>0.392520</td>\n",
       "    </tr>\n",
       "    <tr>\n",
       "      <td>2</td>\n",
       "      <td>3</td>\n",
       "      <td>0.00001</td>\n",
       "      <td>1.0</td>\n",
       "      <td>0.401511</td>\n",
       "      <td>0.801057</td>\n",
       "      <td>0.000006</td>\n",
       "      <td>0.785278</td>\n",
       "      <td>0.813513</td>\n",
       "    </tr>\n",
       "    <tr>\n",
       "      <td>3</td>\n",
       "      <td>3</td>\n",
       "      <td>0.00001</td>\n",
       "      <td>1.5</td>\n",
       "      <td>0.146901</td>\n",
       "      <td>0.293585</td>\n",
       "      <td>0.000006</td>\n",
       "      <td>0.342516</td>\n",
       "      <td>0.324235</td>\n",
       "    </tr>\n",
       "    <tr>\n",
       "      <td>4</td>\n",
       "      <td>6</td>\n",
       "      <td>0.00100</td>\n",
       "      <td>1.0</td>\n",
       "      <td>0.089539</td>\n",
       "      <td>0.150138</td>\n",
       "      <td>0.000013</td>\n",
       "      <td>0.135282</td>\n",
       "      <td>0.270154</td>\n",
       "    </tr>\n",
       "    <tr>\n",
       "      <td>5</td>\n",
       "      <td>6</td>\n",
       "      <td>0.00100</td>\n",
       "      <td>1.5</td>\n",
       "      <td>0.076551</td>\n",
       "      <td>0.129571</td>\n",
       "      <td>0.000010</td>\n",
       "      <td>0.223333</td>\n",
       "      <td>0.227814</td>\n",
       "    </tr>\n",
       "    <tr>\n",
       "      <td>6</td>\n",
       "      <td>6</td>\n",
       "      <td>0.00001</td>\n",
       "      <td>1.0</td>\n",
       "      <td>0.072468</td>\n",
       "      <td>0.143758</td>\n",
       "      <td>0.000026</td>\n",
       "      <td>0.172449</td>\n",
       "      <td>0.144893</td>\n",
       "    </tr>\n",
       "    <tr>\n",
       "      <td>7</td>\n",
       "      <td>6</td>\n",
       "      <td>0.00001</td>\n",
       "      <td>1.5</td>\n",
       "      <td>0.063973</td>\n",
       "      <td>0.127338</td>\n",
       "      <td>0.000004</td>\n",
       "      <td>0.205831</td>\n",
       "      <td>0.228100</td>\n",
       "    </tr>\n",
       "    <tr>\n",
       "      <td>8</td>\n",
       "      <td>7</td>\n",
       "      <td>0.00100</td>\n",
       "      <td>1.0</td>\n",
       "      <td>0.065360</td>\n",
       "      <td>0.082563</td>\n",
       "      <td>0.000017</td>\n",
       "      <td>0.110586</td>\n",
       "      <td>0.067852</td>\n",
       "    </tr>\n",
       "    <tr>\n",
       "      <td>9</td>\n",
       "      <td>7</td>\n",
       "      <td>0.00100</td>\n",
       "      <td>1.5</td>\n",
       "      <td>0.045105</td>\n",
       "      <td>0.060382</td>\n",
       "      <td>0.000012</td>\n",
       "      <td>0.081816</td>\n",
       "      <td>0.094272</td>\n",
       "    </tr>\n",
       "    <tr>\n",
       "      <td>10</td>\n",
       "      <td>7</td>\n",
       "      <td>0.00001</td>\n",
       "      <td>1.0</td>\n",
       "      <td>0.029532</td>\n",
       "      <td>0.057761</td>\n",
       "      <td>0.000012</td>\n",
       "      <td>0.128430</td>\n",
       "      <td>0.111759</td>\n",
       "    </tr>\n",
       "    <tr>\n",
       "      <td>11</td>\n",
       "      <td>7</td>\n",
       "      <td>0.00001</td>\n",
       "      <td>1.5</td>\n",
       "      <td>0.035431</td>\n",
       "      <td>0.069684</td>\n",
       "      <td>0.000104</td>\n",
       "      <td>0.093554</td>\n",
       "      <td>0.131798</td>\n",
       "    </tr>\n",
       "    <tr>\n",
       "      <td>12</td>\n",
       "      <td>9</td>\n",
       "      <td>0.00100</td>\n",
       "      <td>1.0</td>\n",
       "      <td>0.051419</td>\n",
       "      <td>0.061026</td>\n",
       "      <td>0.000016</td>\n",
       "      <td>0.060138</td>\n",
       "      <td>0.095034</td>\n",
       "    </tr>\n",
       "    <tr>\n",
       "      <td>13</td>\n",
       "      <td>9</td>\n",
       "      <td>0.00100</td>\n",
       "      <td>1.5</td>\n",
       "      <td>0.041518</td>\n",
       "      <td>0.048252</td>\n",
       "      <td>0.000013</td>\n",
       "      <td>0.082154</td>\n",
       "      <td>0.091202</td>\n",
       "    </tr>\n",
       "    <tr>\n",
       "      <td>14</td>\n",
       "      <td>9</td>\n",
       "      <td>0.00001</td>\n",
       "      <td>1.0</td>\n",
       "      <td>0.014366</td>\n",
       "      <td>0.026875</td>\n",
       "      <td>0.000072</td>\n",
       "      <td>0.098266</td>\n",
       "      <td>0.073402</td>\n",
       "    </tr>\n",
       "    <tr>\n",
       "      <td>15</td>\n",
       "      <td>9</td>\n",
       "      <td>0.00001</td>\n",
       "      <td>1.5</td>\n",
       "      <td>0.029221</td>\n",
       "      <td>0.056712</td>\n",
       "      <td>0.000037</td>\n",
       "      <td>0.127778</td>\n",
       "      <td>0.077372</td>\n",
       "    </tr>\n",
       "    <tr>\n",
       "      <td>16</td>\n",
       "      <td>11</td>\n",
       "      <td>0.00100</td>\n",
       "      <td>1.0</td>\n",
       "      <td>0.048761</td>\n",
       "      <td>0.050699</td>\n",
       "      <td>0.000018</td>\n",
       "      <td>0.056434</td>\n",
       "      <td>0.052824</td>\n",
       "    </tr>\n",
       "    <tr>\n",
       "      <td>17</td>\n",
       "      <td>11</td>\n",
       "      <td>0.00100</td>\n",
       "      <td>1.5</td>\n",
       "      <td>0.033615</td>\n",
       "      <td>0.032042</td>\n",
       "      <td>0.000022</td>\n",
       "      <td>0.056951</td>\n",
       "      <td>0.052415</td>\n",
       "    </tr>\n",
       "    <tr>\n",
       "      <td>18</td>\n",
       "      <td>11</td>\n",
       "      <td>0.00001</td>\n",
       "      <td>1.0</td>\n",
       "      <td>0.001202</td>\n",
       "      <td>0.000136</td>\n",
       "      <td>0.000328</td>\n",
       "      <td>0.000300</td>\n",
       "      <td>0.000159</td>\n",
       "    </tr>\n",
       "    <tr>\n",
       "      <td>19</td>\n",
       "      <td>11</td>\n",
       "      <td>0.00001</td>\n",
       "      <td>1.5</td>\n",
       "      <td>0.005711</td>\n",
       "      <td>0.010138</td>\n",
       "      <td>0.000190</td>\n",
       "      <td>0.013368</td>\n",
       "      <td>0.013212</td>\n",
       "    </tr>\n",
       "    <tr>\n",
       "      <td>20</td>\n",
       "      <td>20</td>\n",
       "      <td>0.00100</td>\n",
       "      <td>1.0</td>\n",
       "      <td>0.035826</td>\n",
       "      <td>0.026493</td>\n",
       "      <td>0.000031</td>\n",
       "      <td>0.060539</td>\n",
       "      <td>0.037279</td>\n",
       "    </tr>\n",
       "    <tr>\n",
       "      <td>21</td>\n",
       "      <td>20</td>\n",
       "      <td>0.00100</td>\n",
       "      <td>1.5</td>\n",
       "      <td>0.022439</td>\n",
       "      <td>0.009665</td>\n",
       "      <td>0.000152</td>\n",
       "      <td>0.015878</td>\n",
       "      <td>0.012900</td>\n",
       "    </tr>\n",
       "    <tr>\n",
       "      <td>22</td>\n",
       "      <td>20</td>\n",
       "      <td>0.00001</td>\n",
       "      <td>1.0</td>\n",
       "      <td>0.000857</td>\n",
       "      <td>0.000200</td>\n",
       "      <td>0.000283</td>\n",
       "      <td>0.000713</td>\n",
       "      <td>0.000398</td>\n",
       "    </tr>\n",
       "    <tr>\n",
       "      <td>23</td>\n",
       "      <td>20</td>\n",
       "      <td>0.00001</td>\n",
       "      <td>1.5</td>\n",
       "      <td>NaN</td>\n",
       "      <td>NaN</td>\n",
       "      <td>NaN</td>\n",
       "      <td>NaN</td>\n",
       "      <td>NaN</td>\n",
       "    </tr>\n",
       "  </tbody>\n",
       "</table>\n",
       "</div>"
      ],
      "text/plain": [
       "    neurons      rho  sigma       fun    err_tr  jac_norm   err_val  err_test\n",
       "0         3  0.00100    1.0  0.146204  0.267513  0.000005  0.380936  0.379573\n",
       "1         3  0.00100    1.5  0.142374  0.261603  0.000004  0.332050  0.392520\n",
       "2         3  0.00001    1.0  0.401511  0.801057  0.000006  0.785278  0.813513\n",
       "3         3  0.00001    1.5  0.146901  0.293585  0.000006  0.342516  0.324235\n",
       "4         6  0.00100    1.0  0.089539  0.150138  0.000013  0.135282  0.270154\n",
       "5         6  0.00100    1.5  0.076551  0.129571  0.000010  0.223333  0.227814\n",
       "6         6  0.00001    1.0  0.072468  0.143758  0.000026  0.172449  0.144893\n",
       "7         6  0.00001    1.5  0.063973  0.127338  0.000004  0.205831  0.228100\n",
       "8         7  0.00100    1.0  0.065360  0.082563  0.000017  0.110586  0.067852\n",
       "9         7  0.00100    1.5  0.045105  0.060382  0.000012  0.081816  0.094272\n",
       "10        7  0.00001    1.0  0.029532  0.057761  0.000012  0.128430  0.111759\n",
       "11        7  0.00001    1.5  0.035431  0.069684  0.000104  0.093554  0.131798\n",
       "12        9  0.00100    1.0  0.051419  0.061026  0.000016  0.060138  0.095034\n",
       "13        9  0.00100    1.5  0.041518  0.048252  0.000013  0.082154  0.091202\n",
       "14        9  0.00001    1.0  0.014366  0.026875  0.000072  0.098266  0.073402\n",
       "15        9  0.00001    1.5  0.029221  0.056712  0.000037  0.127778  0.077372\n",
       "16       11  0.00100    1.0  0.048761  0.050699  0.000018  0.056434  0.052824\n",
       "17       11  0.00100    1.5  0.033615  0.032042  0.000022  0.056951  0.052415\n",
       "18       11  0.00001    1.0  0.001202  0.000136  0.000328  0.000300  0.000159\n",
       "19       11  0.00001    1.5  0.005711  0.010138  0.000190  0.013368  0.013212\n",
       "20       20  0.00100    1.0  0.035826  0.026493  0.000031  0.060539  0.037279\n",
       "21       20  0.00100    1.5  0.022439  0.009665  0.000152  0.015878  0.012900\n",
       "22       20  0.00001    1.0  0.000857  0.000200  0.000283  0.000713  0.000398\n",
       "23       20  0.00001    1.5       NaN       NaN       NaN       NaN       NaN"
      ]
     },
     "execution_count": 23,
     "metadata": {},
     "output_type": "execute_result"
    }
   ],
   "source": [
    "configs"
   ]
  },
  {
   "cell_type": "code",
   "execution_count": 22,
   "metadata": {},
   "outputs": [],
   "source": [
    "configs=pd.DataFrame(all_poss_conf,columns=['neurons','rho','sigma'])\n",
    "configs[['fun','err_tr','jac_norm','err_val','err_test']]=pd.DataFrame(conf_res)\n",
    "configs.to_csv('res_confs_ALL.csv')"
   ]
  },
  {
   "cell_type": "code",
   "execution_count": 19,
   "metadata": {},
   "outputs": [
    {
     "data": {
      "text/html": [
       "<div>\n",
       "<style scoped>\n",
       "    .dataframe tbody tr th:only-of-type {\n",
       "        vertical-align: middle;\n",
       "    }\n",
       "\n",
       "    .dataframe tbody tr th {\n",
       "        vertical-align: top;\n",
       "    }\n",
       "\n",
       "    .dataframe thead th {\n",
       "        text-align: right;\n",
       "    }\n",
       "</style>\n",
       "<table border=\"1\" class=\"dataframe\">\n",
       "  <thead>\n",
       "    <tr style=\"text-align: right;\">\n",
       "      <th></th>\n",
       "      <th>neurons</th>\n",
       "      <th>rho</th>\n",
       "      <th>sigma</th>\n",
       "      <th>fun</th>\n",
       "      <th>err_tr</th>\n",
       "      <th>jac_norm</th>\n",
       "      <th>err_val</th>\n",
       "      <th>err_test</th>\n",
       "    </tr>\n",
       "  </thead>\n",
       "  <tbody>\n",
       "    <tr>\n",
       "      <td>0</td>\n",
       "      <td>3</td>\n",
       "      <td>0.00100</td>\n",
       "      <td>1</td>\n",
       "      <td>0.157998</td>\n",
       "      <td>0.289258</td>\n",
       "      <td>0.000007</td>\n",
       "      <td>0.268788</td>\n",
       "      <td>0.341503</td>\n",
       "    </tr>\n",
       "    <tr>\n",
       "      <td>1</td>\n",
       "      <td>3</td>\n",
       "      <td>0.00100</td>\n",
       "      <td>2</td>\n",
       "      <td>0.271599</td>\n",
       "      <td>0.526929</td>\n",
       "      <td>0.000010</td>\n",
       "      <td>0.755026</td>\n",
       "      <td>0.280764</td>\n",
       "    </tr>\n",
       "    <tr>\n",
       "      <td>2</td>\n",
       "      <td>3</td>\n",
       "      <td>0.00001</td>\n",
       "      <td>1</td>\n",
       "      <td>0.275339</td>\n",
       "      <td>0.548956</td>\n",
       "      <td>0.000009</td>\n",
       "      <td>0.427680</td>\n",
       "      <td>0.650734</td>\n",
       "    </tr>\n",
       "    <tr>\n",
       "      <td>3</td>\n",
       "      <td>3</td>\n",
       "      <td>0.00001</td>\n",
       "      <td>2</td>\n",
       "      <td>0.533370</td>\n",
       "      <td>1.060880</td>\n",
       "      <td>0.000008</td>\n",
       "      <td>1.109851</td>\n",
       "      <td>0.945024</td>\n",
       "    </tr>\n",
       "    <tr>\n",
       "      <td>4</td>\n",
       "      <td>7</td>\n",
       "      <td>0.00100</td>\n",
       "      <td>1</td>\n",
       "      <td>0.058060</td>\n",
       "      <td>0.068736</td>\n",
       "      <td>0.000014</td>\n",
       "      <td>0.059420</td>\n",
       "      <td>0.101887</td>\n",
       "    </tr>\n",
       "    <tr>\n",
       "      <td>5</td>\n",
       "      <td>7</td>\n",
       "      <td>0.00100</td>\n",
       "      <td>2</td>\n",
       "      <td>0.049019</td>\n",
       "      <td>0.078278</td>\n",
       "      <td>0.000009</td>\n",
       "      <td>0.118789</td>\n",
       "      <td>0.150880</td>\n",
       "    </tr>\n",
       "    <tr>\n",
       "      <td>6</td>\n",
       "      <td>7</td>\n",
       "      <td>0.00001</td>\n",
       "      <td>1</td>\n",
       "      <td>0.037751</td>\n",
       "      <td>0.073730</td>\n",
       "      <td>0.000014</td>\n",
       "      <td>0.093436</td>\n",
       "      <td>0.112173</td>\n",
       "    </tr>\n",
       "    <tr>\n",
       "      <td>7</td>\n",
       "      <td>7</td>\n",
       "      <td>0.00001</td>\n",
       "      <td>2</td>\n",
       "      <td>0.046080</td>\n",
       "      <td>0.091252</td>\n",
       "      <td>0.000012</td>\n",
       "      <td>0.101186</td>\n",
       "      <td>0.096415</td>\n",
       "    </tr>\n",
       "    <tr>\n",
       "      <td>8</td>\n",
       "      <td>9</td>\n",
       "      <td>0.00100</td>\n",
       "      <td>1</td>\n",
       "      <td>0.049923</td>\n",
       "      <td>0.058461</td>\n",
       "      <td>0.000013</td>\n",
       "      <td>0.072190</td>\n",
       "      <td>0.107070</td>\n",
       "    </tr>\n",
       "    <tr>\n",
       "      <td>9</td>\n",
       "      <td>9</td>\n",
       "      <td>0.00100</td>\n",
       "      <td>2</td>\n",
       "      <td>NaN</td>\n",
       "      <td>NaN</td>\n",
       "      <td>NaN</td>\n",
       "      <td>NaN</td>\n",
       "      <td>NaN</td>\n",
       "    </tr>\n",
       "    <tr>\n",
       "      <td>10</td>\n",
       "      <td>9</td>\n",
       "      <td>0.00001</td>\n",
       "      <td>1</td>\n",
       "      <td>NaN</td>\n",
       "      <td>NaN</td>\n",
       "      <td>NaN</td>\n",
       "      <td>NaN</td>\n",
       "      <td>NaN</td>\n",
       "    </tr>\n",
       "    <tr>\n",
       "      <td>11</td>\n",
       "      <td>9</td>\n",
       "      <td>0.00001</td>\n",
       "      <td>2</td>\n",
       "      <td>NaN</td>\n",
       "      <td>NaN</td>\n",
       "      <td>NaN</td>\n",
       "      <td>NaN</td>\n",
       "      <td>NaN</td>\n",
       "    </tr>\n",
       "    <tr>\n",
       "      <td>12</td>\n",
       "      <td>11</td>\n",
       "      <td>0.00100</td>\n",
       "      <td>1</td>\n",
       "      <td>NaN</td>\n",
       "      <td>NaN</td>\n",
       "      <td>NaN</td>\n",
       "      <td>NaN</td>\n",
       "      <td>NaN</td>\n",
       "    </tr>\n",
       "    <tr>\n",
       "      <td>13</td>\n",
       "      <td>11</td>\n",
       "      <td>0.00100</td>\n",
       "      <td>2</td>\n",
       "      <td>NaN</td>\n",
       "      <td>NaN</td>\n",
       "      <td>NaN</td>\n",
       "      <td>NaN</td>\n",
       "      <td>NaN</td>\n",
       "    </tr>\n",
       "    <tr>\n",
       "      <td>14</td>\n",
       "      <td>11</td>\n",
       "      <td>0.00001</td>\n",
       "      <td>1</td>\n",
       "      <td>NaN</td>\n",
       "      <td>NaN</td>\n",
       "      <td>NaN</td>\n",
       "      <td>NaN</td>\n",
       "      <td>NaN</td>\n",
       "    </tr>\n",
       "    <tr>\n",
       "      <td>15</td>\n",
       "      <td>11</td>\n",
       "      <td>0.00001</td>\n",
       "      <td>2</td>\n",
       "      <td>NaN</td>\n",
       "      <td>NaN</td>\n",
       "      <td>NaN</td>\n",
       "      <td>NaN</td>\n",
       "      <td>NaN</td>\n",
       "    </tr>\n",
       "  </tbody>\n",
       "</table>\n",
       "</div>"
      ],
      "text/plain": [
       "    neurons      rho  sigma       fun    err_tr  jac_norm   err_val  err_test\n",
       "0         3  0.00100      1  0.157998  0.289258  0.000007  0.268788  0.341503\n",
       "1         3  0.00100      2  0.271599  0.526929  0.000010  0.755026  0.280764\n",
       "2         3  0.00001      1  0.275339  0.548956  0.000009  0.427680  0.650734\n",
       "3         3  0.00001      2  0.533370  1.060880  0.000008  1.109851  0.945024\n",
       "4         7  0.00100      1  0.058060  0.068736  0.000014  0.059420  0.101887\n",
       "5         7  0.00100      2  0.049019  0.078278  0.000009  0.118789  0.150880\n",
       "6         7  0.00001      1  0.037751  0.073730  0.000014  0.093436  0.112173\n",
       "7         7  0.00001      2  0.046080  0.091252  0.000012  0.101186  0.096415\n",
       "8         9  0.00100      1  0.049923  0.058461  0.000013  0.072190  0.107070\n",
       "9         9  0.00100      2       NaN       NaN       NaN       NaN       NaN\n",
       "10        9  0.00001      1       NaN       NaN       NaN       NaN       NaN\n",
       "11        9  0.00001      2       NaN       NaN       NaN       NaN       NaN\n",
       "12       11  0.00100      1       NaN       NaN       NaN       NaN       NaN\n",
       "13       11  0.00100      2       NaN       NaN       NaN       NaN       NaN\n",
       "14       11  0.00001      1       NaN       NaN       NaN       NaN       NaN\n",
       "15       11  0.00001      2       NaN       NaN       NaN       NaN       NaN"
      ]
     },
     "execution_count": 19,
     "metadata": {},
     "output_type": "execute_result"
    }
   ],
   "source": [
    "configs"
   ]
  },
  {
   "cell_type": "code",
   "execution_count": 20,
   "metadata": {},
   "outputs": [
    {
     "data": {
      "text/plain": [
       "45"
      ]
     },
     "execution_count": 20,
     "metadata": {},
     "output_type": "execute_result"
    }
   ],
   "source": [
    "Xtest.shape[1]"
   ]
  },
  {
   "cell_type": "code",
   "execution_count": 21,
   "metadata": {},
   "outputs": [
    {
     "data": {
      "text/plain": [
       "(2, 45)"
      ]
     },
     "execution_count": 21,
     "metadata": {},
     "output_type": "execute_result"
    }
   ],
   "source": [
    "Xval.shape"
   ]
  },
  {
   "cell_type": "code",
   "execution_count": 25,
   "metadata": {},
   "outputs": [
    {
     "data": {
      "text/plain": [
       "(255, 2)"
      ]
     },
     "execution_count": 25,
     "metadata": {},
     "output_type": "execute_result"
    }
   ],
   "source": [
    "np.concatenate((X,Xval.T)).shape"
   ]
  },
  {
   "cell_type": "code",
   "execution_count": 31,
   "metadata": {},
   "outputs": [],
   "source": []
  },
  {
   "cell_type": "code",
   "execution_count": 44,
   "metadata": {},
   "outputs": [],
   "source": [
    "configs=pd.DataFrame(all_poss_conf[:3],columns=['neurons','rho','sigma'])\n",
    "configs[['err_tr','jac_norm','err_val','err_test']]=pd.DataFrame(conf_res)"
   ]
  },
  {
   "cell_type": "code",
   "execution_count": 46,
   "metadata": {},
   "outputs": [],
   "source": [
    "configs.to_csv('res_confs_111.csv')"
   ]
  },
  {
   "cell_type": "code",
   "execution_count": 87,
   "metadata": {},
   "outputs": [
    {
     "data": {
      "text/plain": [
       "array([-3.72529030e-08,  6.70552254e-08, -6.70552254e-08,  8.94069672e-08,\n",
       "        0.00000000e+00,  0.00000000e+00,  0.00000000e+00,  0.00000000e+00,\n",
       "        0.00000000e+00,  0.00000000e+00, -2.98023224e-08, -6.70552254e-08,\n",
       "       -6.70552254e-08, -6.70552254e-08, -7.45058060e-09,  0.00000000e+00,\n",
       "        0.00000000e+00,  0.00000000e+00, -7.45058060e-09,  0.00000000e+00])"
      ]
     },
     "execution_count": 87,
     "metadata": {},
     "output_type": "execute_result"
    }
   ],
   "source": [
    "jac"
   ]
  },
  {
   "cell_type": "code",
   "execution_count": 88,
   "metadata": {},
   "outputs": [
    {
     "data": {
      "text/plain": [
       "array([ 6.65983144e-01,  3.64691540e-01, -1.72050014e+00, -4.31487776e-01,\n",
       "        2.57613507e-07,  5.80369411e-08, -1.04872921e-08,  0.00000000e+00,\n",
       "       -7.35619357e-07,  9.49874554e-07,  6.65986190e-01, -3.87785307e-01,\n",
       "        1.61577219e+00, -4.81619542e-01, -1.80118128e-06,  0.00000000e+00,\n",
       "       -4.73702356e-07,  1.50660648e-06, -1.74329507e-06,  0.00000000e+00])"
      ]
     },
     "execution_count": 88,
     "metadata": {},
     "output_type": "execute_result"
    }
   ],
   "source": [
    "omega_out"
   ]
  },
  {
   "cell_type": "code",
   "execution_count": 89,
   "metadata": {},
   "outputs": [
    {
     "data": {
      "text/plain": [
       "(2, 0.001, 1)"
      ]
     },
     "execution_count": 89,
     "metadata": {},
     "output_type": "execute_result"
    }
   ],
   "source": [
    "all_poss_conf[0]"
   ]
  },
  {
   "cell_type": "code",
   "execution_count": 29,
   "metadata": {},
   "outputs": [
    {
     "data": {
      "text/plain": [
       "(1, 210)"
      ]
     },
     "execution_count": 29,
     "metadata": {},
     "output_type": "execute_result"
    }
   ],
   "source": [
    "y_true.shape"
   ]
  },
  {
   "cell_type": "code",
   "execution_count": 28,
   "metadata": {},
   "outputs": [
    {
     "data": {
      "text/plain": [
       "(1, 45)"
      ]
     },
     "execution_count": 28,
     "metadata": {},
     "output_type": "execute_result"
    }
   ],
   "source": [
    "Yval.shape"
   ]
  },
  {
   "cell_type": "code",
   "execution_count": 33,
   "metadata": {},
   "outputs": [
    {
     "data": {
      "text/plain": [
       "(1, 255)"
      ]
     },
     "execution_count": 33,
     "metadata": {},
     "output_type": "execute_result"
    }
   ],
   "source": [
    "(np.concatenate((y_true.T,Yval.T)).T).shape"
   ]
  },
  {
   "cell_type": "markdown",
   "metadata": {},
   "source": [
    "# part 1.2"
   ]
  },
  {
   "cell_type": "code",
   "execution_count": null,
   "metadata": {},
   "outputs": [],
   "source": [
    "X, y_true, Xval,Yval, Xtest, Ytest = get_data()\n",
    "X=X.T\n",
    "N=11\n",
    "rho=0.00001\n",
    "sigma=1\n",
    "n = X.shape[1] # Size of the input vector X\n",
    "n_y = y_true.shape[0] # Size of the input vector Y\n",
    "p = X.shape[0] # Size of the sample\n",
    "params = initialize_parameters(n, N, n_y)\n",
    "W1 = params['W1']\n",
    "b1 = params['b1']\n",
    "V = params['V']\n",
    "omega0=np.append(np.append(V.T,W1, axis=1), b1, axis=1)"
   ]
  },
  {
   "cell_type": "markdown",
   "metadata": {},
   "source": [
    "# Q2"
   ]
  },
  {
   "cell_type": "markdown",
   "metadata": {},
   "source": [
    "import optunity"
   ]
  },
  {
   "cell_type": "markdown",
   "metadata": {},
   "source": [
    "solvers = optunity.available_solvers()\n",
    "print('Available solvers: ' + ', '.join(solvers))"
   ]
  },
  {
   "cell_type": "code",
   "execution_count": 20,
   "metadata": {},
   "outputs": [],
   "source": [
    "def predicting_q2(z0,V,sigma):\n",
    "    W = W1\n",
    "    #V = omega[:,0:1]\n",
    "    b = b1\n",
    "    Y_predicted=[predicting_1_ouput(z0[i],b,W,V,sigma) for i in range((z0.T).shape[1])]#(z0.T).shape[1]\n",
    "    return np.array(Y_predicted)"
   ]
  },
  {
   "cell_type": "code",
   "execution_count": 76,
   "metadata": {},
   "outputs": [],
   "source": [
    "X, y_true, Xval,Yval, Xtest, Ytest = get_data()\n",
    "X=X.T\n",
    "N=11\n",
    "rho=0.00001\n",
    "sigma=1\n",
    "n = X.shape[1] # Size of the input vector X\n",
    "n_y = y_true.shape[0] # Size of the input vector Y\n",
    "p = X.shape[0] # Size of the sample\n",
    "params = initialize_parameters(n, N, n_y)\n",
    "W1 = params['W1']*[0.001,0.0002]\n",
    "b1 = params['b1']*0.0006\n",
    "V = params['V']\n",
    "omega=np.append(np.append(V.T,W1, axis=1), b1, axis=1)"
   ]
  },
  {
   "cell_type": "code",
   "execution_count": 77,
   "metadata": {},
   "outputs": [],
   "source": [
    "def reg_training_error_q2(V):\n",
    "    #omega=omega.reshape(N,int(len(omega)/N))\n",
    "    Y_pred=predicting_q2(X,V,sigma)\n",
    "    #omega=np.append(np.append(V.T,W1, axis=1), b1, axis=1)\n",
    "    E = (np.sum((Y_pred-y_true)**2)/(2*X.shape[0]) + rho*(second_norm(V))+rho*(second_norm(W1))+rho*(second_norm(b1)))\n",
    "    return E"
   ]
  },
  {
   "cell_type": "code",
   "execution_count": 78,
   "metadata": {},
   "outputs": [],
   "source": [
    "#predicting_q2(X,V,sigma).shape"
   ]
  },
  {
   "cell_type": "code",
   "execution_count": 79,
   "metadata": {},
   "outputs": [],
   "source": [
    "res = minimize(reg_training_error_q2, V,method='TNC')"
   ]
  },
  {
   "cell_type": "code",
   "execution_count": 80,
   "metadata": {},
   "outputs": [
    {
     "data": {
      "text/plain": [
       "     fun: 1.323807339836164\n",
       "     jac: array([ 4.66293670e-06,  7.43849426e-06, -1.29452005e-05, -6.88338275e-06,\n",
       "        9.70334924e-06,  1.33670852e-05,  1.81854531e-05, -1.08357767e-05,\n",
       "       -2.34701147e-05,  8.77076189e-06, -2.22044605e-08])\n",
       " message: 'Converged (|f_n-f_(n-1)| ~= 0)'\n",
       "    nfev: 57\n",
       "     nit: 10\n",
       "  status: 1\n",
       " success: True\n",
       "       x: array([-0.06364367,  8.78980786,  3.00381507,  2.12877649,  2.0864033 ,\n",
       "       -1.32807398,  1.98405722,  3.7384757 ,  1.26033096,  1.95728083,\n",
       "       -5.68316245])"
      ]
     },
     "execution_count": 80,
     "metadata": {},
     "output_type": "execute_result"
    }
   ],
   "source": [
    "res"
   ]
  },
  {
   "cell_type": "code",
   "execution_count": 31,
   "metadata": {},
   "outputs": [],
   "source": [
    "#ress=optunity.minimize(reg_training_error_q2, num_evals=100, x=[-5, 5], y=[-5, 5], solver_name=solvers[1])"
   ]
  },
  {
   "cell_type": "code",
   "execution_count": 84,
   "metadata": {},
   "outputs": [
    {
     "data": {
      "text/plain": [
       "(1, 210)"
      ]
     },
     "execution_count": 84,
     "metadata": {},
     "output_type": "execute_result"
    }
   ],
   "source": [
    "y_true.shape"
   ]
  },
  {
   "cell_type": "code",
   "execution_count": 92,
   "metadata": {},
   "outputs": [],
   "source": [
    "from sklearn.neural_network import MLPClassifier"
   ]
  },
  {
   "cell_type": "code",
   "execution_count": null,
   "metadata": {},
   "outputs": [],
   "source": []
  }
 ],
 "metadata": {
  "kernelspec": {
   "display_name": "Python 3",
   "language": "python",
   "name": "python3"
  },
  "language_info": {
   "codemirror_mode": {
    "name": "ipython",
    "version": 3
   },
   "file_extension": ".py",
   "mimetype": "text/x-python",
   "name": "python",
   "nbconvert_exporter": "python",
   "pygments_lexer": "ipython3",
   "version": "3.6.8"
  }
 },
 "nbformat": 4,
 "nbformat_minor": 2
}
